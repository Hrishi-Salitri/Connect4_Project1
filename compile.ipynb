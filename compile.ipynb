{
 "cells": [
  {
   "cell_type": "code",
   "execution_count": 18,
   "metadata": {},
   "outputs": [],
   "source": [
    "import pickle\n",
    "import pandas as pd"
   ]
  },
  {
   "cell_type": "code",
   "execution_count": 19,
   "metadata": {},
   "outputs": [],
   "source": [
    "training_files = ['Connect4Dataset_SmartRandom_carson.pkl', 'Connect4Dataset_SmartRandom_carson2.pkl', 'Connect4Dataset_SmartRandom_carson3.pkl', 'Connect4Dataset_SmartRandom_carson4.pkl', 'Connect4Dataset_SmartRandom_carson6.pkl', 'Connect4Dataset_SmartRandom_carson7.pkl', 'Connect4Dataset_SmartRandom_Esh.pkl', 'Connect4Dataset_SmartRandom_hrishi.pkl']"
   ]
  },
  {
   "cell_type": "code",
   "execution_count": 20,
   "metadata": {},
   "outputs": [],
   "source": [
    "data = []\n",
    "\n",
    "for file_path in training_files:\n",
    "    with open(file_path, \"rb\") as file:\n",
    "        data_file = pickle.load(file)\n",
    "\n",
    "    # Convert the dataset to a DataFrame, including board state\n",
    "    for record in data_file:\n",
    "        game_id, board, move, player1_skill, player2_skill, player = record\n",
    "        data.append(\n",
    "            {\n",
    "                \"Game ID\": game_id,\n",
    "                \"Board State\": board,\n",
    "                \"Move\": move,\n",
    "                \"Player 1 Skill\": player1_skill,\n",
    "                \"Player 2 Skill\": player2_skill,\n",
    "                \"Player\": player,\n",
    "            }\n",
    "        )\n",
    "\n",
    "    connect4 = pd.DataFrame(data)"
   ]
  },
  {
   "cell_type": "code",
   "execution_count": 21,
   "metadata": {},
   "outputs": [],
   "source": [
    "connect4.to_pickle('Connect4Dataset_SmartRandom_combined.pkl')"
   ]
  }
 ],
 "metadata": {
  "kernelspec": {
   "display_name": "base",
   "language": "python",
   "name": "python3"
  },
  "language_info": {
   "codemirror_mode": {
    "name": "ipython",
    "version": 3
   },
   "file_extension": ".py",
   "mimetype": "text/x-python",
   "name": "python",
   "nbconvert_exporter": "python",
   "pygments_lexer": "ipython3",
   "version": "3.11.4"
  }
 },
 "nbformat": 4,
 "nbformat_minor": 2
}
