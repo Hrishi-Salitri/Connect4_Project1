{
 "cells": [
  {
   "cell_type": "code",
   "execution_count": 84,
   "metadata": {},
   "outputs": [],
   "source": [
    "import pickle\n",
    "import pandas as pd\n",
    "import numpy as np\n",
    "from IPython.display import clear_output\n",
    "import time\n",
    "import random\n",
    "import matplotlib.pyplot as plt"
   ]
  },
  {
   "cell_type": "code",
   "execution_count": 85,
   "metadata": {},
   "outputs": [],
   "source": [
    "# # Replace 'your_file.pkl' with the path to your pickle file\n",
    "# # file_path = \"Connect4Dataset_RandomOpp_Firstmove.pkl\"\n",
    "# file_path = \"Connect4Dataset_SmartRandom_hrishi.pkl\"\n",
    "\n",
    "# # Open the pickle file in read mode\n",
    "# with open(file_path, \"rb\") as file:\n",
    "#     dataset_progressive_skill = pickle.load(file)"
   ]
  },
  {
   "cell_type": "code",
   "execution_count": 86,
   "metadata": {},
   "outputs": [],
   "source": [
    "# Should only have plus moves. For minus, multiply the board by -1. Save -1(board) for the minus turn.\n",
    "# Think about this, might not need to have this, but possibly some iteration of this"
   ]
  },
  {
   "cell_type": "code",
   "execution_count": null,
   "metadata": {},
   "outputs": [],
   "source": []
  },
  {
   "cell_type": "markdown",
   "metadata": {},
   "source": [
    "# EDA"
   ]
  },
  {
   "cell_type": "markdown",
   "metadata": {},
   "source": [
    "### Viewing a single game"
   ]
  },
  {
   "cell_type": "code",
   "execution_count": 87,
   "metadata": {},
   "outputs": [],
   "source": [
    "# def view_game(dataset, game_number):\n",
    "#     \"\"\"\n",
    "#     View all moves, skill levels, and associated information for a single game.\n",
    "\n",
    "#     Parameters:\n",
    "#         dataset (list): The dataset containing board states and moves.\n",
    "#         game_number (int): The game number to view (1-based index).\n",
    "\n",
    "#     Returns:\n",
    "#         None\n",
    "#     \"\"\"\n",
    "#     print(f\"Game {game_number}:\")\n",
    "\n",
    "#     # Filter dataset for the specified game\n",
    "#     game_moves = [record for record in dataset if record[0] == game_number]\n",
    "\n",
    "#     for move_number, record in enumerate(game_moves, start=1):\n",
    "#         game_id, board, move, player1_skill, player2_skill, player = record\n",
    "\n",
    "#         # Display the details of the current move\n",
    "#         print(f\"Move number {move_number}:\")\n",
    "#         print(\"Board State Before Move:\")\n",
    "#         print(\"Plus Player Layer:\")\n",
    "#         print(board[:, :, 0])  # Player 1's layer\n",
    "#         print(\"Minus Player Layer:\")\n",
    "#         print(board[:, :, 1])  # Player 2's layer\n",
    "#         print(\n",
    "#             f\"Move position: {move}, Player: {player}, Plus Player Skill: {player1_skill}, Minus Player Skill: {player2_skill}\"\n",
    "#         )\n",
    "#         print(\"-\" * 50)\n",
    "\n",
    "\n",
    "# view_game(dataset_progressive_skill, game_number=1)  # View the first game"
   ]
  },
  {
   "cell_type": "markdown",
   "metadata": {},
   "source": [
    "### Convert to pandas df"
   ]
  },
  {
   "cell_type": "code",
   "execution_count": 88,
   "metadata": {},
   "outputs": [],
   "source": [
    "# # Convert the dataset to a DataFrame, including board state\n",
    "# data = []\n",
    "# for record in dataset_progressive_skill:\n",
    "#     game_id, board, move, player1_skill, player2_skill, player = record\n",
    "#     data.append(\n",
    "#         {\n",
    "#             \"Game ID\": game_id,\n",
    "#             \"Board State\": board,\n",
    "#             \"Move\": move,\n",
    "#             \"Player 1 Skill\": player1_skill,\n",
    "#             \"Player 2 Skill\": player2_skill,\n",
    "#             \"Player\": player,\n",
    "#         }\n",
    "#     )\n",
    "\n",
    "# connect4 = pd.DataFrame(data)"
   ]
  },
  {
   "cell_type": "markdown",
   "metadata": {},
   "source": [
    "# COMBINED DATA"
   ]
  },
  {
   "cell_type": "code",
   "execution_count": 89,
   "metadata": {},
   "outputs": [],
   "source": [
    "connect4 = pd.read_pickle(\"Connect4Dataset_SmartRandom_combined.pkl\")"
   ]
  },
  {
   "cell_type": "code",
   "execution_count": 90,
   "metadata": {},
   "outputs": [
    {
     "data": {
      "text/plain": [
       "(523242, 6)"
      ]
     },
     "execution_count": 90,
     "metadata": {},
     "output_type": "execute_result"
    }
   ],
   "source": [
    "connect4.shape"
   ]
  },
  {
   "cell_type": "code",
   "execution_count": 91,
   "metadata": {},
   "outputs": [
    {
     "data": {
      "text/html": [
       "<div>\n",
       "<style scoped>\n",
       "    .dataframe tbody tr th:only-of-type {\n",
       "        vertical-align: middle;\n",
       "    }\n",
       "\n",
       "    .dataframe tbody tr th {\n",
       "        vertical-align: top;\n",
       "    }\n",
       "\n",
       "    .dataframe thead th {\n",
       "        text-align: right;\n",
       "    }\n",
       "</style>\n",
       "<table border=\"1\" class=\"dataframe\">\n",
       "  <thead>\n",
       "    <tr style=\"text-align: right;\">\n",
       "      <th></th>\n",
       "      <th>Game ID</th>\n",
       "      <th>Board State</th>\n",
       "      <th>Move</th>\n",
       "      <th>Player 1 Skill</th>\n",
       "      <th>Player 2 Skill</th>\n",
       "      <th>Player</th>\n",
       "    </tr>\n",
       "  </thead>\n",
       "  <tbody>\n",
       "    <tr>\n",
       "      <th>0</th>\n",
       "      <td>0</td>\n",
       "      <td>[[[0, 0], [0, 0], [0, 0], [0, 0], [0, 0], [0, ...</td>\n",
       "      <td>3</td>\n",
       "      <td>1748</td>\n",
       "      <td>2477</td>\n",
       "      <td>plus</td>\n",
       "    </tr>\n",
       "    <tr>\n",
       "      <th>1</th>\n",
       "      <td>0</td>\n",
       "      <td>[[[0, 0], [0, 0], [0, 0], [0, 0], [0, 0], [0, ...</td>\n",
       "      <td>2</td>\n",
       "      <td>1748</td>\n",
       "      <td>2477</td>\n",
       "      <td>minus</td>\n",
       "    </tr>\n",
       "    <tr>\n",
       "      <th>2</th>\n",
       "      <td>0</td>\n",
       "      <td>[[[0, 0], [0, 0], [0, 0], [0, 0], [0, 0], [0, ...</td>\n",
       "      <td>2</td>\n",
       "      <td>1748</td>\n",
       "      <td>2477</td>\n",
       "      <td>plus</td>\n",
       "    </tr>\n",
       "    <tr>\n",
       "      <th>3</th>\n",
       "      <td>0</td>\n",
       "      <td>[[[0, 0], [0, 0], [0, 0], [0, 0], [0, 0], [0, ...</td>\n",
       "      <td>3</td>\n",
       "      <td>1748</td>\n",
       "      <td>2477</td>\n",
       "      <td>minus</td>\n",
       "    </tr>\n",
       "    <tr>\n",
       "      <th>4</th>\n",
       "      <td>0</td>\n",
       "      <td>[[[0, 0], [0, 0], [0, 0], [0, 0], [0, 0], [0, ...</td>\n",
       "      <td>2</td>\n",
       "      <td>1748</td>\n",
       "      <td>2477</td>\n",
       "      <td>plus</td>\n",
       "    </tr>\n",
       "    <tr>\n",
       "      <th>5</th>\n",
       "      <td>0</td>\n",
       "      <td>[[[0, 0], [0, 0], [0, 0], [0, 0], [0, 0], [0, ...</td>\n",
       "      <td>3</td>\n",
       "      <td>1748</td>\n",
       "      <td>2477</td>\n",
       "      <td>minus</td>\n",
       "    </tr>\n",
       "    <tr>\n",
       "      <th>6</th>\n",
       "      <td>0</td>\n",
       "      <td>[[[0, 0], [0, 0], [0, 0], [0, 0], [0, 0], [0, ...</td>\n",
       "      <td>2</td>\n",
       "      <td>1748</td>\n",
       "      <td>2477</td>\n",
       "      <td>plus</td>\n",
       "    </tr>\n",
       "    <tr>\n",
       "      <th>7</th>\n",
       "      <td>0</td>\n",
       "      <td>[[[0, 0], [0, 0], [0, 0], [0, 0], [0, 0], [0, ...</td>\n",
       "      <td>2</td>\n",
       "      <td>1748</td>\n",
       "      <td>2477</td>\n",
       "      <td>minus</td>\n",
       "    </tr>\n",
       "    <tr>\n",
       "      <th>8</th>\n",
       "      <td>0</td>\n",
       "      <td>[[[0, 0], [0, 0], [0, 0], [0, 0], [0, 0], [0, ...</td>\n",
       "      <td>3</td>\n",
       "      <td>1748</td>\n",
       "      <td>2477</td>\n",
       "      <td>plus</td>\n",
       "    </tr>\n",
       "    <tr>\n",
       "      <th>9</th>\n",
       "      <td>0</td>\n",
       "      <td>[[[0, 0], [0, 0], [0, 0], [0, 0], [0, 0], [0, ...</td>\n",
       "      <td>0</td>\n",
       "      <td>1748</td>\n",
       "      <td>2477</td>\n",
       "      <td>minus</td>\n",
       "    </tr>\n",
       "  </tbody>\n",
       "</table>\n",
       "</div>"
      ],
      "text/plain": [
       "   Game ID                                        Board State  Move  \\\n",
       "0        0  [[[0, 0], [0, 0], [0, 0], [0, 0], [0, 0], [0, ...     3   \n",
       "1        0  [[[0, 0], [0, 0], [0, 0], [0, 0], [0, 0], [0, ...     2   \n",
       "2        0  [[[0, 0], [0, 0], [0, 0], [0, 0], [0, 0], [0, ...     2   \n",
       "3        0  [[[0, 0], [0, 0], [0, 0], [0, 0], [0, 0], [0, ...     3   \n",
       "4        0  [[[0, 0], [0, 0], [0, 0], [0, 0], [0, 0], [0, ...     2   \n",
       "5        0  [[[0, 0], [0, 0], [0, 0], [0, 0], [0, 0], [0, ...     3   \n",
       "6        0  [[[0, 0], [0, 0], [0, 0], [0, 0], [0, 0], [0, ...     2   \n",
       "7        0  [[[0, 0], [0, 0], [0, 0], [0, 0], [0, 0], [0, ...     2   \n",
       "8        0  [[[0, 0], [0, 0], [0, 0], [0, 0], [0, 0], [0, ...     3   \n",
       "9        0  [[[0, 0], [0, 0], [0, 0], [0, 0], [0, 0], [0, ...     0   \n",
       "\n",
       "   Player 1 Skill  Player 2 Skill Player  \n",
       "0            1748            2477   plus  \n",
       "1            1748            2477  minus  \n",
       "2            1748            2477   plus  \n",
       "3            1748            2477  minus  \n",
       "4            1748            2477   plus  \n",
       "5            1748            2477  minus  \n",
       "6            1748            2477   plus  \n",
       "7            1748            2477  minus  \n",
       "8            1748            2477   plus  \n",
       "9            1748            2477  minus  "
      ]
     },
     "execution_count": 91,
     "metadata": {},
     "output_type": "execute_result"
    }
   ],
   "source": [
    "connect4.head(10)\n",
    "\n",
    "# np.flip\n",
    "# 6 - best_move"
   ]
  },
  {
   "cell_type": "markdown",
   "metadata": {},
   "source": [
    "##### Look at a board state from pandas df"
   ]
  },
  {
   "cell_type": "code",
   "execution_count": 92,
   "metadata": {},
   "outputs": [],
   "source": [
    "# # Access the board state for the first record\n",
    "# # board_state = connect4.loc[1, \"Board State\"]\n",
    "# print(\"Player 1 Layer:\")\n",
    "# print(connect4.loc[2, \"Board State\"][:, :, 0])  # Player 1's layer\n",
    "# print(\"Player 2 Layer:\")\n",
    "# print(connect4.loc[2, \"Board State\"][:, :, 1])  # Player 2's layer"
   ]
  },
  {
   "cell_type": "markdown",
   "metadata": {},
   "source": [
    "## Make the board states from player 1s perspective only"
   ]
  },
  {
   "cell_type": "code",
   "execution_count": 93,
   "metadata": {},
   "outputs": [],
   "source": [
    "# def standardize_board_state(df):\n",
    "#     \"\"\"\n",
    "#     Converts all board states to be from Player 1's perspective.\n",
    "#     If Player 2 made the move, the board is flipped and the move adjusted.\n",
    "\n",
    "#     Args:\n",
    "#         df (pd.DataFrame): Original DataFrame with \"Board State\", \"Move\", and \"Player\".\n",
    "\n",
    "#     Returns:\n",
    "#         pd.DataFrame: New DataFrame where all moves are from the same player perspective.\n",
    "#     \"\"\"\n",
    "#     standardized_data = []\n",
    "\n",
    "#     for _, row in df.iterrows():\n",
    "#         game_id = row[\"Game ID\"]\n",
    "#         p1 = row[\"Player 1 Skill\"]\n",
    "#         p2 = row[\"Player 2 Skill\"]\n",
    "#         board = row[\"Board State\"]\n",
    "#         move = row[\"Move\"]\n",
    "#         player = row[\"Player\"]\n",
    "\n",
    "#         # If Player 2 made the move, flip the board horizontally and adjust move\n",
    "#         if player == \"minus\":\n",
    "#             board = np.flip(board, axis=1)  # Flip horizontally\n",
    "#             # move = 6 - move  # Only need to adjust when flipping board\n",
    "\n",
    "#         # Extract only Player 1's board (first slice of the 6x7x2 array)\n",
    "#         board_layer = board[:, :, 0]\n",
    "\n",
    "#         # Store the transformed data\n",
    "#         standardized_data.append(\n",
    "#             {\n",
    "#                 \"Game ID\": game_id,\n",
    "#                 \"Board State\": board_layer,\n",
    "#                 \"Move\": move,\n",
    "#                 \"Player 1 Skill\": p1,\n",
    "#                 \"Player 2 Skill\": p2,\n",
    "#             }\n",
    "#         )\n",
    "\n",
    "#     return pd.DataFrame(standardized_data)\n",
    "\n",
    "\n",
    "def standardize_board_state(board, player):\n",
    "    \"\"\"\n",
    "    Swap [0,1] to [1,0] and [1,0] to [0,1] in a given board only if player == -1.\n",
    "    \"\"\"\n",
    "\n",
    "    # if isinstance(player, str):\n",
    "    #     player = int(player)\n",
    "\n",
    "    if player == \"minus\":\n",
    "        board = np.array(board)  # Ensure it's a NumPy array\n",
    "\n",
    "        # Create masks\n",
    "        mask_01 = (board[:, :, 0] == 0) & (board[:, :, 1] == 1)  # Find [0,1]\n",
    "        mask_10 = (board[:, :, 0] == 1) & (board[:, :, 1] == 0)  # Find [1,0]\n",
    "\n",
    "        # Swap values\n",
    "        board[mask_01] = [1, 0]\n",
    "        board[mask_10] = [0, 1]\n",
    "\n",
    "    return board  # Return the modified or original board"
   ]
  },
  {
   "cell_type": "code",
   "execution_count": 94,
   "metadata": {},
   "outputs": [],
   "source": [
    "# Apply to each board where the player is -1\n",
    "connect4_standardized = connect4.copy()\n",
    "connect4_standardized[\"Board State\"] = connect4_standardized.apply(\n",
    "    lambda row: standardize_board_state(row[\"Board State\"], row[\"Player\"]), axis=1\n",
    ")"
   ]
  },
  {
   "cell_type": "code",
   "execution_count": 95,
   "metadata": {},
   "outputs": [
    {
     "data": {
      "text/plain": [
       "(523242, 6)"
      ]
     },
     "execution_count": 95,
     "metadata": {},
     "output_type": "execute_result"
    }
   ],
   "source": [
    "connect4_standardized.shape"
   ]
  },
  {
   "cell_type": "code",
   "execution_count": 96,
   "metadata": {},
   "outputs": [
    {
     "data": {
      "text/html": [
       "<div>\n",
       "<style scoped>\n",
       "    .dataframe tbody tr th:only-of-type {\n",
       "        vertical-align: middle;\n",
       "    }\n",
       "\n",
       "    .dataframe tbody tr th {\n",
       "        vertical-align: top;\n",
       "    }\n",
       "\n",
       "    .dataframe thead th {\n",
       "        text-align: right;\n",
       "    }\n",
       "</style>\n",
       "<table border=\"1\" class=\"dataframe\">\n",
       "  <thead>\n",
       "    <tr style=\"text-align: right;\">\n",
       "      <th></th>\n",
       "      <th>Game ID</th>\n",
       "      <th>Board State</th>\n",
       "      <th>Move</th>\n",
       "      <th>Player 1 Skill</th>\n",
       "      <th>Player 2 Skill</th>\n",
       "      <th>Player</th>\n",
       "    </tr>\n",
       "  </thead>\n",
       "  <tbody>\n",
       "    <tr>\n",
       "      <th>0</th>\n",
       "      <td>0</td>\n",
       "      <td>[[[0, 0], [0, 0], [0, 0], [0, 0], [0, 0], [0, ...</td>\n",
       "      <td>3</td>\n",
       "      <td>1748</td>\n",
       "      <td>2477</td>\n",
       "      <td>plus</td>\n",
       "    </tr>\n",
       "    <tr>\n",
       "      <th>1</th>\n",
       "      <td>0</td>\n",
       "      <td>[[[0, 0], [0, 0], [0, 0], [0, 0], [0, 0], [0, ...</td>\n",
       "      <td>2</td>\n",
       "      <td>1748</td>\n",
       "      <td>2477</td>\n",
       "      <td>minus</td>\n",
       "    </tr>\n",
       "    <tr>\n",
       "      <th>2</th>\n",
       "      <td>0</td>\n",
       "      <td>[[[0, 0], [0, 0], [0, 0], [0, 0], [0, 0], [0, ...</td>\n",
       "      <td>2</td>\n",
       "      <td>1748</td>\n",
       "      <td>2477</td>\n",
       "      <td>plus</td>\n",
       "    </tr>\n",
       "    <tr>\n",
       "      <th>3</th>\n",
       "      <td>0</td>\n",
       "      <td>[[[0, 0], [0, 0], [0, 0], [0, 0], [0, 0], [0, ...</td>\n",
       "      <td>3</td>\n",
       "      <td>1748</td>\n",
       "      <td>2477</td>\n",
       "      <td>minus</td>\n",
       "    </tr>\n",
       "    <tr>\n",
       "      <th>4</th>\n",
       "      <td>0</td>\n",
       "      <td>[[[0, 0], [0, 0], [0, 0], [0, 0], [0, 0], [0, ...</td>\n",
       "      <td>2</td>\n",
       "      <td>1748</td>\n",
       "      <td>2477</td>\n",
       "      <td>plus</td>\n",
       "    </tr>\n",
       "    <tr>\n",
       "      <th>5</th>\n",
       "      <td>0</td>\n",
       "      <td>[[[0, 0], [0, 0], [0, 0], [0, 0], [0, 0], [0, ...</td>\n",
       "      <td>3</td>\n",
       "      <td>1748</td>\n",
       "      <td>2477</td>\n",
       "      <td>minus</td>\n",
       "    </tr>\n",
       "    <tr>\n",
       "      <th>6</th>\n",
       "      <td>0</td>\n",
       "      <td>[[[0, 0], [0, 0], [0, 0], [0, 0], [0, 0], [0, ...</td>\n",
       "      <td>2</td>\n",
       "      <td>1748</td>\n",
       "      <td>2477</td>\n",
       "      <td>plus</td>\n",
       "    </tr>\n",
       "    <tr>\n",
       "      <th>7</th>\n",
       "      <td>0</td>\n",
       "      <td>[[[0, 0], [0, 0], [0, 0], [0, 0], [0, 0], [0, ...</td>\n",
       "      <td>2</td>\n",
       "      <td>1748</td>\n",
       "      <td>2477</td>\n",
       "      <td>minus</td>\n",
       "    </tr>\n",
       "    <tr>\n",
       "      <th>8</th>\n",
       "      <td>0</td>\n",
       "      <td>[[[0, 0], [0, 0], [0, 0], [0, 0], [0, 0], [0, ...</td>\n",
       "      <td>3</td>\n",
       "      <td>1748</td>\n",
       "      <td>2477</td>\n",
       "      <td>plus</td>\n",
       "    </tr>\n",
       "    <tr>\n",
       "      <th>9</th>\n",
       "      <td>0</td>\n",
       "      <td>[[[0, 0], [0, 0], [0, 0], [0, 0], [0, 0], [0, ...</td>\n",
       "      <td>0</td>\n",
       "      <td>1748</td>\n",
       "      <td>2477</td>\n",
       "      <td>minus</td>\n",
       "    </tr>\n",
       "  </tbody>\n",
       "</table>\n",
       "</div>"
      ],
      "text/plain": [
       "   Game ID                                        Board State  Move  \\\n",
       "0        0  [[[0, 0], [0, 0], [0, 0], [0, 0], [0, 0], [0, ...     3   \n",
       "1        0  [[[0, 0], [0, 0], [0, 0], [0, 0], [0, 0], [0, ...     2   \n",
       "2        0  [[[0, 0], [0, 0], [0, 0], [0, 0], [0, 0], [0, ...     2   \n",
       "3        0  [[[0, 0], [0, 0], [0, 0], [0, 0], [0, 0], [0, ...     3   \n",
       "4        0  [[[0, 0], [0, 0], [0, 0], [0, 0], [0, 0], [0, ...     2   \n",
       "5        0  [[[0, 0], [0, 0], [0, 0], [0, 0], [0, 0], [0, ...     3   \n",
       "6        0  [[[0, 0], [0, 0], [0, 0], [0, 0], [0, 0], [0, ...     2   \n",
       "7        0  [[[0, 0], [0, 0], [0, 0], [0, 0], [0, 0], [0, ...     2   \n",
       "8        0  [[[0, 0], [0, 0], [0, 0], [0, 0], [0, 0], [0, ...     3   \n",
       "9        0  [[[0, 0], [0, 0], [0, 0], [0, 0], [0, 0], [0, ...     0   \n",
       "\n",
       "   Player 1 Skill  Player 2 Skill Player  \n",
       "0            1748            2477   plus  \n",
       "1            1748            2477  minus  \n",
       "2            1748            2477   plus  \n",
       "3            1748            2477  minus  \n",
       "4            1748            2477   plus  \n",
       "5            1748            2477  minus  \n",
       "6            1748            2477   plus  \n",
       "7            1748            2477  minus  \n",
       "8            1748            2477   plus  \n",
       "9            1748            2477  minus  "
      ]
     },
     "execution_count": 96,
     "metadata": {},
     "output_type": "execute_result"
    }
   ],
   "source": [
    "connect4_standardized.head(10)"
   ]
  },
  {
   "cell_type": "code",
   "execution_count": 97,
   "metadata": {},
   "outputs": [
    {
     "name": "stdout",
     "output_type": "stream",
     "text": [
      "Player 1 Layer:\n",
      "[[0 0 0 0 0 0 0]\n",
      " [0 0 0 0 0 0 0]\n",
      " [0 0 0 0 0 0 0]\n",
      " [0 0 0 0 0 0 0]\n",
      " [0 0 0 0 0 0 0]\n",
      " [0 0 0 1 0 0 0]]\n",
      "Player 2 Layer:\n",
      "[[0 0 0 0 0 0 0]\n",
      " [0 0 0 0 0 0 0]\n",
      " [0 0 0 0 0 0 0]\n",
      " [0 0 0 0 0 0 0]\n",
      " [0 0 0 0 0 0 0]\n",
      " [0 0 1 0 0 0 0]]\n"
     ]
    }
   ],
   "source": [
    "# Access the board state for the first record\n",
    "# board_state = connect4.loc[1, \"Board State\"]\n",
    "print(\"Player 1 Layer:\")\n",
    "print(connect4_standardized.loc[1, \"Board State\"][:, :, 1])  # Player 1's layer\n",
    "print(\"Player 2 Layer:\")\n",
    "print(connect4_standardized.loc[2, \"Board State\"][:, :, 1])  # Player 2's layer"
   ]
  },
  {
   "cell_type": "markdown",
   "metadata": {},
   "source": [
    "### Add flipped board states"
   ]
  },
  {
   "cell_type": "code",
   "execution_count": 98,
   "metadata": {},
   "outputs": [],
   "source": [
    "def flip_board(board):\n",
    "    \"\"\"Flip the board horizontally.\"\"\"\n",
    "    return np.flip(board, axis=1)\n",
    "\n",
    "\n",
    "def add_flipped_boards(df):\n",
    "    \"\"\"\n",
    "    Add flipped boards to the dataset, updating the Game ID for flipped boards.\n",
    "    Args:\n",
    "        df: A Pandas DataFrame with columns \"Game ID\", \"Board State\", \"Move\",\n",
    "             \"Player 1 Skill\", \"Player 2 Skill\", and \"Player\".\n",
    "    Returns:\n",
    "        A new DataFrame with original and flipped boards, where flipped boards have updated Game IDs.\n",
    "    \"\"\"\n",
    "    flipped_rows = []\n",
    "    max_game_id = df[\n",
    "        \"Game ID\"\n",
    "    ].max()  # Start new Game IDs after the max ID in the original DataFrame\n",
    "\n",
    "    for game_id, group in df.groupby(\"Game ID\"):  # Group by each game\n",
    "        for _, row in group.iterrows():\n",
    "            # Extract board state, move, and other columns\n",
    "            board = row[\"Board State\"]\n",
    "            move = row[\"Move\"]\n",
    "            other_columns = row.drop(\n",
    "                [\"Game ID\", \"Board State\", \"Move\"]\n",
    "            ).to_dict()  # Extract other columns\n",
    "\n",
    "            # Add the original board state\n",
    "            flipped_rows.append(\n",
    "                {\n",
    "                    \"Game ID\": game_id,  # Keep the original Game ID\n",
    "                    \"Board State\": board,\n",
    "                    \"Move\": move,\n",
    "                    **other_columns,\n",
    "                }\n",
    "            )\n",
    "\n",
    "            # Flip the board and adjust the move\n",
    "            flipped_board = flip_board(board)\n",
    "            flipped_move = 6 - move  # Adjust move for flipped board\n",
    "\n",
    "            # Add the flipped board state with a new Game ID\n",
    "            flipped_rows.append(\n",
    "                {\n",
    "                    \"Game ID\": max_game_id\n",
    "                    + 1,  # Increment Game ID for flipped board states\n",
    "                    \"Board State\": flipped_board,\n",
    "                    \"Move\": flipped_move,\n",
    "                    **other_columns,\n",
    "                }\n",
    "            )\n",
    "\n",
    "        # Increment the max_game_id for the next game\n",
    "        max_game_id += 1\n",
    "\n",
    "    # Create a new DataFrame from the rows\n",
    "    return pd.DataFrame(flipped_rows)"
   ]
  },
  {
   "cell_type": "code",
   "execution_count": 99,
   "metadata": {},
   "outputs": [
    {
     "data": {
      "text/plain": [
       "(1046484, 6)"
      ]
     },
     "execution_count": 99,
     "metadata": {},
     "output_type": "execute_result"
    }
   ],
   "source": [
    "# Apply the function to your DataFrame\n",
    "connect4_wflip = add_flipped_boards(connect4_standardized)\n",
    "connect4_wflip.shape"
   ]
  },
  {
   "cell_type": "markdown",
   "metadata": {},
   "source": [
    "# Make data only player 1"
   ]
  },
  {
   "cell_type": "code",
   "execution_count": 115,
   "metadata": {},
   "outputs": [],
   "source": [
    "connect4_wflip = connect4_wflip[connect4_wflip[\"Player\"] == \"plus\"]"
   ]
  },
  {
   "cell_type": "code",
   "execution_count": 116,
   "metadata": {},
   "outputs": [
    {
     "data": {
      "text/plain": [
       "(525190, 6)"
      ]
     },
     "execution_count": 116,
     "metadata": {},
     "output_type": "execute_result"
    }
   ],
   "source": [
    "connect4_wflip.shape"
   ]
  },
  {
   "cell_type": "code",
   "execution_count": 118,
   "metadata": {},
   "outputs": [
    {
     "data": {
      "text/plain": [
       "523242.0"
      ]
     },
     "execution_count": 118,
     "metadata": {},
     "output_type": "execute_result"
    }
   ],
   "source": []
  },
  {
   "cell_type": "markdown",
   "metadata": {},
   "source": [
    "### Unqiue dataset ...?"
   ]
  },
  {
   "cell_type": "code",
   "execution_count": 100,
   "metadata": {},
   "outputs": [],
   "source": [
    "# # Create a hashable representation of each board state\n",
    "# # Flatten the 3D board state and convert it into a tuple\n",
    "# hashed_board_states = connect4[\"Board State\"].apply(lambda x: tuple(x.ravel()))\n",
    "# hashed_board_states_2 = connect4_wflip[\"Board State\"].apply(lambda x: tuple(x.ravel()))\n",
    "\n",
    "# # Find the number of unique hashed board states\n",
    "# unique_board_states_count = len(hashed_board_states.unique())\n",
    "# unique_board_states_count_2 = len(hashed_board_states_2.unique())\n",
    "\n",
    "# print(f\"Number of unique board states before flip: {unique_board_states_count}\")\n",
    "# print(f\"Number of unique board states after flip: {unique_board_states_count_2}\")"
   ]
  },
  {
   "cell_type": "markdown",
   "metadata": {},
   "source": [
    "### Drop duplicates"
   ]
  },
  {
   "cell_type": "code",
   "execution_count": 101,
   "metadata": {},
   "outputs": [],
   "source": [
    "# # Create a hashable representation of each board state\n",
    "# connect4[\"hashed_board\"] = connect4[\"Board State\"].apply(lambda x: tuple(x.ravel()))\n",
    "# connect4_wflip[\"hashed_board\"] = connect4_wflip[\"Board State\"].apply(\n",
    "#     lambda x: tuple(x.ravel())\n",
    "# )\n",
    "\n",
    "# # Drop duplicate board states\n",
    "# unique_connect4 = connect4.drop_duplicates(subset=[\"hashed_board\"]).drop(\n",
    "#     columns=[\"hashed_board\"]\n",
    "# )\n",
    "# unique_connect4_wflip = connect4_wflip.drop_duplicates(subset=[\"hashed_board\"]).drop(\n",
    "#     columns=[\"hashed_board\"]\n",
    "# )\n",
    "\n",
    "# # Display the number of unique board states\n",
    "# print(f\"Unique board states (before flip): {len(unique_connect4)}\")\n",
    "# print(f\"Unique board states (after flip): {len(unique_connect4_wflip)}\")\n",
    "# print(f\"Unique games (after flip): {len(unique_connect4_wflip['Game ID'].unique())}\")"
   ]
  },
  {
   "cell_type": "markdown",
   "metadata": {},
   "source": [
    "### Move frequencies"
   ]
  },
  {
   "cell_type": "code",
   "execution_count": 102,
   "metadata": {},
   "outputs": [],
   "source": [
    "# # Plot the frequency of recommended moves\n",
    "# unique_connect4[\"Move\"].value_counts().sort_index().plot(kind=\"bar\", figsize=(10, 5))\n",
    "# plt.title(\"Distribution of Recommended Moves before flipping\")\n",
    "# plt.xlabel(\"Move (Column Index)\")\n",
    "# plt.ylabel(\"Frequency\")\n",
    "# plt.show()\n",
    "\n",
    "\n",
    "# # Plot the frequency of recommended moves\n",
    "# unique_connect4_wflip[\"Move\"].value_counts().sort_index().plot(\n",
    "#     kind=\"bar\", figsize=(10, 5)\n",
    "# )\n",
    "# plt.title(\"Distribution of Recommended Moves after flipping\")\n",
    "# plt.xlabel(\"Move (Column Index)\")\n",
    "# plt.ylabel(\"Frequency\")\n",
    "# plt.show()\n",
    "\n",
    "\n",
    "# # Should be same"
   ]
  },
  {
   "cell_type": "code",
   "execution_count": 103,
   "metadata": {},
   "outputs": [],
   "source": [
    "# # Identify rows where the board state is empty\n",
    "# # An empty board state means all elements in both layers are zero\n",
    "# empty_board_states = connect4[\"Board State\"].apply(lambda x: np.all(x == 0))\n",
    "\n",
    "# # Filter the dataset to only include these rows\n",
    "# empty_boards_df = connect4[empty_board_states]\n",
    "\n",
    "# # Check the distribution of recommended moves\n",
    "# move_distribution = empty_boards_df[\"Move\"].value_counts().sort_index()\n",
    "\n",
    "# # Print the distribution\n",
    "# print(\"Recommended Move Distribution for Empty Board States:\")\n",
    "# print(move_distribution)\n",
    "\n",
    "# # Visualize the distribution\n",
    "# move_distribution.plot(kind=\"bar\", figsize=(10, 5), color=\"skyblue\")\n",
    "# plt.title(\"Distribution of Recommended Moves for Empty Board States\")\n",
    "# plt.xlabel(\"Move (Column Index)\")\n",
    "# plt.ylabel(\"Frequency\")\n",
    "# plt.xticks(rotation=0)\n",
    "# plt.show()"
   ]
  },
  {
   "cell_type": "markdown",
   "metadata": {},
   "source": [
    "# CNN Testing"
   ]
  },
  {
   "cell_type": "code",
   "execution_count": 104,
   "metadata": {},
   "outputs": [],
   "source": [
    "import numpy as np\n",
    "import tensorflow as tf\n",
    "from sklearn.model_selection import train_test_split\n",
    "from tensorflow.keras.utils import to_categorical\n",
    "\n",
    "from tensorflow.keras.models import Sequential\n",
    "from tensorflow.keras.layers import (\n",
    "    Conv2D,\n",
    "    Flatten,\n",
    "    Dense,\n",
    "    Dropout,\n",
    "    MaxPooling2D,\n",
    "    SpatialDropout2D,\n",
    "    BatchNormalization,\n",
    "    GlobalAveragePooling2D,\n",
    ")\n",
    "from tensorflow.keras.regularizers import l2\n",
    "from tensorflow.keras.optimizers import Adam\n",
    "\n",
    "from tensorflow.keras.models import load_model\n",
    "from tensorflow.keras.callbacks import ModelCheckpoint\n",
    "from tensorflow.keras.callbacks import ReduceLROnPlateau\n",
    "from tensorflow.keras.callbacks import EarlyStopping"
   ]
  },
  {
   "cell_type": "markdown",
   "metadata": {},
   "source": [
    "### Subset games for intial testing"
   ]
  },
  {
   "cell_type": "code",
   "execution_count": 105,
   "metadata": {},
   "outputs": [],
   "source": [
    "# def subset_games(df, num_games):\n",
    "#     \"\"\"\n",
    "#     Subset a DataFrame based on a random sample of unique game IDs.\n",
    "\n",
    "#     Parameters:\n",
    "#         df (pd.DataFrame): The input DataFrame with a 'game id' column.\n",
    "#         num_games (int): The number of unique game IDs to subset.\n",
    "\n",
    "#     Returns:\n",
    "#         pd.DataFrame: A subset of the original DataFrame.\n",
    "#     \"\"\"\n",
    "#     # Get the unique game IDs\n",
    "#     unique_game_ids = df[\"Game ID\"].unique()\n",
    "\n",
    "#     # Ensure the requested number of games doesn't exceed the available unique IDs\n",
    "#     if num_games > len(unique_game_ids):\n",
    "#         raise ValueError(\n",
    "#             f\"num_games ({num_games}) exceeds the total unique game IDs ({len(unique_game_ids)}).\"\n",
    "#         )\n",
    "\n",
    "#     # Randomly sample the desired number of unique game IDs\n",
    "#     sampled_game_ids = pd.Series(unique_game_ids).sample(num_games, random_state=42)\n",
    "\n",
    "#     # Subset the DataFrame\n",
    "#     subset_df = df[df[\"Game ID\"].isin(sampled_game_ids)]\n",
    "\n",
    "#     return subset_df"
   ]
  },
  {
   "cell_type": "code",
   "execution_count": 106,
   "metadata": {},
   "outputs": [],
   "source": [
    "# num_games = 12000  # Specify the number of games to include\n",
    "# connect4_testing = subset_games(connect4_wflip, num_games)\n",
    "\n",
    "# # Print some details\n",
    "# print(f\"Subset contains {len(connect4_testing)} board states from {num_games} games.\")"
   ]
  },
  {
   "cell_type": "code",
   "execution_count": 119,
   "metadata": {},
   "outputs": [],
   "source": [
    "connect4_testing = connect4_wflip.copy()"
   ]
  },
  {
   "cell_type": "markdown",
   "metadata": {},
   "source": [
    "### Split data for train/val"
   ]
  },
  {
   "cell_type": "code",
   "execution_count": 120,
   "metadata": {},
   "outputs": [
    {
     "name": "stdout",
     "output_type": "stream",
     "text": [
      "Training set: (367633, 6, 7, 2), Validation set: (78778, 6, 7, 2), Test set: (78779, 6, 7, 2)\n"
     ]
    }
   ],
   "source": [
    "# Extract features (board states) and labels (recommended moves)\n",
    "X = np.stack(\n",
    "    connect4_testing[\"Board State\"].values\n",
    ")  # Convert board states into a NumPy array\n",
    "y = connect4_testing[\"Move\"].values\n",
    "\n",
    "# Normalize the board states (optional for CNNs)\n",
    "X = X.astype(\"float32\") / 1.0  # Assuming board states are binary (0 or 1)\n",
    "\n",
    "# Convert labels to one-hot encoding (required for multi-class classification)\n",
    "num_classes = 7  # Moves are in columns 0-6\n",
    "y = to_categorical(y, num_classes)\n",
    "\n",
    "# Split into training, validation, and test sets\n",
    "X_train, X_temp, y_train, y_temp = train_test_split(\n",
    "    X, y, test_size=0.3, random_state=42\n",
    ")\n",
    "X_val, X_test, y_val, y_test = train_test_split(\n",
    "    X_temp, y_temp, test_size=0.5, random_state=42\n",
    ")\n",
    "\n",
    "print(\n",
    "    f\"Training set: {X_train.shape}, Validation set: {X_val.shape}, Test set: {X_test.shape}\"\n",
    ")"
   ]
  },
  {
   "cell_type": "markdown",
   "metadata": {},
   "source": [
    "### New board from P1 perspective"
   ]
  },
  {
   "cell_type": "code",
   "execution_count": 121,
   "metadata": {},
   "outputs": [
    {
     "name": "stderr",
     "output_type": "stream",
     "text": [
      "/Library/Frameworks/Python.framework/Versions/3.12/lib/python3.12/site-packages/keras/src/layers/convolutional/base_conv.py:107: UserWarning: Do not pass an `input_shape`/`input_dim` argument to a layer. When using Sequential models, prefer using an `Input(shape)` object as the first layer in the model instead.\n",
      "  super().__init__(activity_regularizer=activity_regularizer, **kwargs)\n"
     ]
    },
    {
     "data": {
      "text/html": [
       "<pre style=\"white-space:pre;overflow-x:auto;line-height:normal;font-family:Menlo,'DejaVu Sans Mono',consolas,'Courier New',monospace\"><span style=\"font-weight: bold\">Model: \"sequential_8\"</span>\n",
       "</pre>\n"
      ],
      "text/plain": [
       "\u001b[1mModel: \"sequential_8\"\u001b[0m\n"
      ]
     },
     "metadata": {},
     "output_type": "display_data"
    },
    {
     "data": {
      "text/html": [
       "<pre style=\"white-space:pre;overflow-x:auto;line-height:normal;font-family:Menlo,'DejaVu Sans Mono',consolas,'Courier New',monospace\">┏━━━━━━━━━━━━━━━━━━━━━━━━━━━━━━━━━┳━━━━━━━━━━━━━━━━━━━━━━━━┳━━━━━━━━━━━━━━━┓\n",
       "┃<span style=\"font-weight: bold\"> Layer (type)                    </span>┃<span style=\"font-weight: bold\"> Output Shape           </span>┃<span style=\"font-weight: bold\">       Param # </span>┃\n",
       "┡━━━━━━━━━━━━━━━━━━━━━━━━━━━━━━━━━╇━━━━━━━━━━━━━━━━━━━━━━━━╇━━━━━━━━━━━━━━━┩\n",
       "│ conv2d_73 (<span style=\"color: #0087ff; text-decoration-color: #0087ff\">Conv2D</span>)              │ (<span style=\"color: #00d7ff; text-decoration-color: #00d7ff\">None</span>, <span style=\"color: #00af00; text-decoration-color: #00af00\">6</span>, <span style=\"color: #00af00; text-decoration-color: #00af00\">7</span>, <span style=\"color: #00af00; text-decoration-color: #00af00\">32</span>)       │           <span style=\"color: #00af00; text-decoration-color: #00af00\">608</span> │\n",
       "├─────────────────────────────────┼────────────────────────┼───────────────┤\n",
       "│ batch_normalization_48          │ (<span style=\"color: #00d7ff; text-decoration-color: #00d7ff\">None</span>, <span style=\"color: #00af00; text-decoration-color: #00af00\">6</span>, <span style=\"color: #00af00; text-decoration-color: #00af00\">7</span>, <span style=\"color: #00af00; text-decoration-color: #00af00\">32</span>)       │           <span style=\"color: #00af00; text-decoration-color: #00af00\">128</span> │\n",
       "│ (<span style=\"color: #0087ff; text-decoration-color: #0087ff\">BatchNormalization</span>)            │                        │               │\n",
       "├─────────────────────────────────┼────────────────────────┼───────────────┤\n",
       "│ conv2d_74 (<span style=\"color: #0087ff; text-decoration-color: #0087ff\">Conv2D</span>)              │ (<span style=\"color: #00d7ff; text-decoration-color: #00d7ff\">None</span>, <span style=\"color: #00af00; text-decoration-color: #00af00\">6</span>, <span style=\"color: #00af00; text-decoration-color: #00af00\">7</span>, <span style=\"color: #00af00; text-decoration-color: #00af00\">64</span>)       │        <span style=\"color: #00af00; text-decoration-color: #00af00\">18,496</span> │\n",
       "├─────────────────────────────────┼────────────────────────┼───────────────┤\n",
       "│ batch_normalization_49          │ (<span style=\"color: #00d7ff; text-decoration-color: #00d7ff\">None</span>, <span style=\"color: #00af00; text-decoration-color: #00af00\">6</span>, <span style=\"color: #00af00; text-decoration-color: #00af00\">7</span>, <span style=\"color: #00af00; text-decoration-color: #00af00\">64</span>)       │           <span style=\"color: #00af00; text-decoration-color: #00af00\">256</span> │\n",
       "│ (<span style=\"color: #0087ff; text-decoration-color: #0087ff\">BatchNormalization</span>)            │                        │               │\n",
       "├─────────────────────────────────┼────────────────────────┼───────────────┤\n",
       "│ conv2d_75 (<span style=\"color: #0087ff; text-decoration-color: #0087ff\">Conv2D</span>)              │ (<span style=\"color: #00d7ff; text-decoration-color: #00d7ff\">None</span>, <span style=\"color: #00af00; text-decoration-color: #00af00\">6</span>, <span style=\"color: #00af00; text-decoration-color: #00af00\">7</span>, <span style=\"color: #00af00; text-decoration-color: #00af00\">64</span>)       │        <span style=\"color: #00af00; text-decoration-color: #00af00\">36,928</span> │\n",
       "├─────────────────────────────────┼────────────────────────┼───────────────┤\n",
       "│ batch_normalization_50          │ (<span style=\"color: #00d7ff; text-decoration-color: #00d7ff\">None</span>, <span style=\"color: #00af00; text-decoration-color: #00af00\">6</span>, <span style=\"color: #00af00; text-decoration-color: #00af00\">7</span>, <span style=\"color: #00af00; text-decoration-color: #00af00\">64</span>)       │           <span style=\"color: #00af00; text-decoration-color: #00af00\">256</span> │\n",
       "│ (<span style=\"color: #0087ff; text-decoration-color: #0087ff\">BatchNormalization</span>)            │                        │               │\n",
       "├─────────────────────────────────┼────────────────────────┼───────────────┤\n",
       "│ conv2d_76 (<span style=\"color: #0087ff; text-decoration-color: #0087ff\">Conv2D</span>)              │ (<span style=\"color: #00d7ff; text-decoration-color: #00d7ff\">None</span>, <span style=\"color: #00af00; text-decoration-color: #00af00\">6</span>, <span style=\"color: #00af00; text-decoration-color: #00af00\">7</span>, <span style=\"color: #00af00; text-decoration-color: #00af00\">64</span>)       │         <span style=\"color: #00af00; text-decoration-color: #00af00\">4,160</span> │\n",
       "├─────────────────────────────────┼────────────────────────┼───────────────┤\n",
       "│ batch_normalization_51          │ (<span style=\"color: #00d7ff; text-decoration-color: #00d7ff\">None</span>, <span style=\"color: #00af00; text-decoration-color: #00af00\">6</span>, <span style=\"color: #00af00; text-decoration-color: #00af00\">7</span>, <span style=\"color: #00af00; text-decoration-color: #00af00\">64</span>)       │           <span style=\"color: #00af00; text-decoration-color: #00af00\">256</span> │\n",
       "│ (<span style=\"color: #0087ff; text-decoration-color: #0087ff\">BatchNormalization</span>)            │                        │               │\n",
       "├─────────────────────────────────┼────────────────────────┼───────────────┤\n",
       "│ max_pooling2d_16 (<span style=\"color: #0087ff; text-decoration-color: #0087ff\">MaxPooling2D</span>) │ (<span style=\"color: #00d7ff; text-decoration-color: #00d7ff\">None</span>, <span style=\"color: #00af00; text-decoration-color: #00af00\">3</span>, <span style=\"color: #00af00; text-decoration-color: #00af00\">7</span>, <span style=\"color: #00af00; text-decoration-color: #00af00\">64</span>)       │             <span style=\"color: #00af00; text-decoration-color: #00af00\">0</span> │\n",
       "├─────────────────────────────────┼────────────────────────┼───────────────┤\n",
       "│ dropout_41 (<span style=\"color: #0087ff; text-decoration-color: #0087ff\">Dropout</span>)            │ (<span style=\"color: #00d7ff; text-decoration-color: #00d7ff\">None</span>, <span style=\"color: #00af00; text-decoration-color: #00af00\">3</span>, <span style=\"color: #00af00; text-decoration-color: #00af00\">7</span>, <span style=\"color: #00af00; text-decoration-color: #00af00\">64</span>)       │             <span style=\"color: #00af00; text-decoration-color: #00af00\">0</span> │\n",
       "├─────────────────────────────────┼────────────────────────┼───────────────┤\n",
       "│ conv2d_77 (<span style=\"color: #0087ff; text-decoration-color: #0087ff\">Conv2D</span>)              │ (<span style=\"color: #00d7ff; text-decoration-color: #00d7ff\">None</span>, <span style=\"color: #00af00; text-decoration-color: #00af00\">3</span>, <span style=\"color: #00af00; text-decoration-color: #00af00\">7</span>, <span style=\"color: #00af00; text-decoration-color: #00af00\">128</span>)      │        <span style=\"color: #00af00; text-decoration-color: #00af00\">73,856</span> │\n",
       "├─────────────────────────────────┼────────────────────────┼───────────────┤\n",
       "│ batch_normalization_52          │ (<span style=\"color: #00d7ff; text-decoration-color: #00d7ff\">None</span>, <span style=\"color: #00af00; text-decoration-color: #00af00\">3</span>, <span style=\"color: #00af00; text-decoration-color: #00af00\">7</span>, <span style=\"color: #00af00; text-decoration-color: #00af00\">128</span>)      │           <span style=\"color: #00af00; text-decoration-color: #00af00\">512</span> │\n",
       "│ (<span style=\"color: #0087ff; text-decoration-color: #0087ff\">BatchNormalization</span>)            │                        │               │\n",
       "├─────────────────────────────────┼────────────────────────┼───────────────┤\n",
       "│ conv2d_78 (<span style=\"color: #0087ff; text-decoration-color: #0087ff\">Conv2D</span>)              │ (<span style=\"color: #00d7ff; text-decoration-color: #00d7ff\">None</span>, <span style=\"color: #00af00; text-decoration-color: #00af00\">3</span>, <span style=\"color: #00af00; text-decoration-color: #00af00\">7</span>, <span style=\"color: #00af00; text-decoration-color: #00af00\">128</span>)      │       <span style=\"color: #00af00; text-decoration-color: #00af00\">147,584</span> │\n",
       "├─────────────────────────────────┼────────────────────────┼───────────────┤\n",
       "│ batch_normalization_53          │ (<span style=\"color: #00d7ff; text-decoration-color: #00d7ff\">None</span>, <span style=\"color: #00af00; text-decoration-color: #00af00\">3</span>, <span style=\"color: #00af00; text-decoration-color: #00af00\">7</span>, <span style=\"color: #00af00; text-decoration-color: #00af00\">128</span>)      │           <span style=\"color: #00af00; text-decoration-color: #00af00\">512</span> │\n",
       "│ (<span style=\"color: #0087ff; text-decoration-color: #0087ff\">BatchNormalization</span>)            │                        │               │\n",
       "├─────────────────────────────────┼────────────────────────┼───────────────┤\n",
       "│ conv2d_79 (<span style=\"color: #0087ff; text-decoration-color: #0087ff\">Conv2D</span>)              │ (<span style=\"color: #00d7ff; text-decoration-color: #00d7ff\">None</span>, <span style=\"color: #00af00; text-decoration-color: #00af00\">3</span>, <span style=\"color: #00af00; text-decoration-color: #00af00\">7</span>, <span style=\"color: #00af00; text-decoration-color: #00af00\">128</span>)      │        <span style=\"color: #00af00; text-decoration-color: #00af00\">16,512</span> │\n",
       "├─────────────────────────────────┼────────────────────────┼───────────────┤\n",
       "│ batch_normalization_54          │ (<span style=\"color: #00d7ff; text-decoration-color: #00d7ff\">None</span>, <span style=\"color: #00af00; text-decoration-color: #00af00\">3</span>, <span style=\"color: #00af00; text-decoration-color: #00af00\">7</span>, <span style=\"color: #00af00; text-decoration-color: #00af00\">128</span>)      │           <span style=\"color: #00af00; text-decoration-color: #00af00\">512</span> │\n",
       "│ (<span style=\"color: #0087ff; text-decoration-color: #0087ff\">BatchNormalization</span>)            │                        │               │\n",
       "├─────────────────────────────────┼────────────────────────┼───────────────┤\n",
       "│ conv2d_80 (<span style=\"color: #0087ff; text-decoration-color: #0087ff\">Conv2D</span>)              │ (<span style=\"color: #00d7ff; text-decoration-color: #00d7ff\">None</span>, <span style=\"color: #00af00; text-decoration-color: #00af00\">2</span>, <span style=\"color: #00af00; text-decoration-color: #00af00\">4</span>, <span style=\"color: #00af00; text-decoration-color: #00af00\">128</span>)      │       <span style=\"color: #00af00; text-decoration-color: #00af00\">147,584</span> │\n",
       "├─────────────────────────────────┼────────────────────────┼───────────────┤\n",
       "│ dropout_42 (<span style=\"color: #0087ff; text-decoration-color: #0087ff\">Dropout</span>)            │ (<span style=\"color: #00d7ff; text-decoration-color: #00d7ff\">None</span>, <span style=\"color: #00af00; text-decoration-color: #00af00\">2</span>, <span style=\"color: #00af00; text-decoration-color: #00af00\">4</span>, <span style=\"color: #00af00; text-decoration-color: #00af00\">128</span>)      │             <span style=\"color: #00af00; text-decoration-color: #00af00\">0</span> │\n",
       "├─────────────────────────────────┼────────────────────────┼───────────────┤\n",
       "│ conv2d_81 (<span style=\"color: #0087ff; text-decoration-color: #0087ff\">Conv2D</span>)              │ (<span style=\"color: #00d7ff; text-decoration-color: #00d7ff\">None</span>, <span style=\"color: #00af00; text-decoration-color: #00af00\">2</span>, <span style=\"color: #00af00; text-decoration-color: #00af00\">4</span>, <span style=\"color: #00af00; text-decoration-color: #00af00\">256</span>)      │       <span style=\"color: #00af00; text-decoration-color: #00af00\">295,168</span> │\n",
       "├─────────────────────────────────┼────────────────────────┼───────────────┤\n",
       "│ batch_normalization_55          │ (<span style=\"color: #00d7ff; text-decoration-color: #00d7ff\">None</span>, <span style=\"color: #00af00; text-decoration-color: #00af00\">2</span>, <span style=\"color: #00af00; text-decoration-color: #00af00\">4</span>, <span style=\"color: #00af00; text-decoration-color: #00af00\">256</span>)      │         <span style=\"color: #00af00; text-decoration-color: #00af00\">1,024</span> │\n",
       "│ (<span style=\"color: #0087ff; text-decoration-color: #0087ff\">BatchNormalization</span>)            │                        │               │\n",
       "├─────────────────────────────────┼────────────────────────┼───────────────┤\n",
       "│ conv2d_82 (<span style=\"color: #0087ff; text-decoration-color: #0087ff\">Conv2D</span>)              │ (<span style=\"color: #00d7ff; text-decoration-color: #00d7ff\">None</span>, <span style=\"color: #00af00; text-decoration-color: #00af00\">2</span>, <span style=\"color: #00af00; text-decoration-color: #00af00\">4</span>, <span style=\"color: #00af00; text-decoration-color: #00af00\">256</span>)      │       <span style=\"color: #00af00; text-decoration-color: #00af00\">590,080</span> │\n",
       "├─────────────────────────────────┼────────────────────────┼───────────────┤\n",
       "│ batch_normalization_56          │ (<span style=\"color: #00d7ff; text-decoration-color: #00d7ff\">None</span>, <span style=\"color: #00af00; text-decoration-color: #00af00\">2</span>, <span style=\"color: #00af00; text-decoration-color: #00af00\">4</span>, <span style=\"color: #00af00; text-decoration-color: #00af00\">256</span>)      │         <span style=\"color: #00af00; text-decoration-color: #00af00\">1,024</span> │\n",
       "│ (<span style=\"color: #0087ff; text-decoration-color: #0087ff\">BatchNormalization</span>)            │                        │               │\n",
       "├─────────────────────────────────┼────────────────────────┼───────────────┤\n",
       "│ conv2d_83 (<span style=\"color: #0087ff; text-decoration-color: #0087ff\">Conv2D</span>)              │ (<span style=\"color: #00d7ff; text-decoration-color: #00d7ff\">None</span>, <span style=\"color: #00af00; text-decoration-color: #00af00\">2</span>, <span style=\"color: #00af00; text-decoration-color: #00af00\">4</span>, <span style=\"color: #00af00; text-decoration-color: #00af00\">256</span>)      │        <span style=\"color: #00af00; text-decoration-color: #00af00\">65,792</span> │\n",
       "├─────────────────────────────────┼────────────────────────┼───────────────┤\n",
       "│ batch_normalization_57          │ (<span style=\"color: #00d7ff; text-decoration-color: #00d7ff\">None</span>, <span style=\"color: #00af00; text-decoration-color: #00af00\">2</span>, <span style=\"color: #00af00; text-decoration-color: #00af00\">4</span>, <span style=\"color: #00af00; text-decoration-color: #00af00\">256</span>)      │         <span style=\"color: #00af00; text-decoration-color: #00af00\">1,024</span> │\n",
       "│ (<span style=\"color: #0087ff; text-decoration-color: #0087ff\">BatchNormalization</span>)            │                        │               │\n",
       "├─────────────────────────────────┼────────────────────────┼───────────────┤\n",
       "│ max_pooling2d_17 (<span style=\"color: #0087ff; text-decoration-color: #0087ff\">MaxPooling2D</span>) │ (<span style=\"color: #00d7ff; text-decoration-color: #00d7ff\">None</span>, <span style=\"color: #00af00; text-decoration-color: #00af00\">1</span>, <span style=\"color: #00af00; text-decoration-color: #00af00\">4</span>, <span style=\"color: #00af00; text-decoration-color: #00af00\">256</span>)      │             <span style=\"color: #00af00; text-decoration-color: #00af00\">0</span> │\n",
       "├─────────────────────────────────┼────────────────────────┼───────────────┤\n",
       "│ dropout_43 (<span style=\"color: #0087ff; text-decoration-color: #0087ff\">Dropout</span>)            │ (<span style=\"color: #00d7ff; text-decoration-color: #00d7ff\">None</span>, <span style=\"color: #00af00; text-decoration-color: #00af00\">1</span>, <span style=\"color: #00af00; text-decoration-color: #00af00\">4</span>, <span style=\"color: #00af00; text-decoration-color: #00af00\">256</span>)      │             <span style=\"color: #00af00; text-decoration-color: #00af00\">0</span> │\n",
       "├─────────────────────────────────┼────────────────────────┼───────────────┤\n",
       "│ global_average_pooling2d_3      │ (<span style=\"color: #00d7ff; text-decoration-color: #00d7ff\">None</span>, <span style=\"color: #00af00; text-decoration-color: #00af00\">256</span>)            │             <span style=\"color: #00af00; text-decoration-color: #00af00\">0</span> │\n",
       "│ (<span style=\"color: #0087ff; text-decoration-color: #0087ff\">GlobalAveragePooling2D</span>)        │                        │               │\n",
       "├─────────────────────────────────┼────────────────────────┼───────────────┤\n",
       "│ dense_24 (<span style=\"color: #0087ff; text-decoration-color: #0087ff\">Dense</span>)                │ (<span style=\"color: #00d7ff; text-decoration-color: #00d7ff\">None</span>, <span style=\"color: #00af00; text-decoration-color: #00af00\">1024</span>)           │       <span style=\"color: #00af00; text-decoration-color: #00af00\">263,168</span> │\n",
       "├─────────────────────────────────┼────────────────────────┼───────────────┤\n",
       "│ dropout_44 (<span style=\"color: #0087ff; text-decoration-color: #0087ff\">Dropout</span>)            │ (<span style=\"color: #00d7ff; text-decoration-color: #00d7ff\">None</span>, <span style=\"color: #00af00; text-decoration-color: #00af00\">1024</span>)           │             <span style=\"color: #00af00; text-decoration-color: #00af00\">0</span> │\n",
       "├─────────────────────────────────┼────────────────────────┼───────────────┤\n",
       "│ dense_25 (<span style=\"color: #0087ff; text-decoration-color: #0087ff\">Dense</span>)                │ (<span style=\"color: #00d7ff; text-decoration-color: #00d7ff\">None</span>, <span style=\"color: #00af00; text-decoration-color: #00af00\">512</span>)            │       <span style=\"color: #00af00; text-decoration-color: #00af00\">524,800</span> │\n",
       "├─────────────────────────────────┼────────────────────────┼───────────────┤\n",
       "│ dropout_45 (<span style=\"color: #0087ff; text-decoration-color: #0087ff\">Dropout</span>)            │ (<span style=\"color: #00d7ff; text-decoration-color: #00d7ff\">None</span>, <span style=\"color: #00af00; text-decoration-color: #00af00\">512</span>)            │             <span style=\"color: #00af00; text-decoration-color: #00af00\">0</span> │\n",
       "├─────────────────────────────────┼────────────────────────┼───────────────┤\n",
       "│ dense_26 (<span style=\"color: #0087ff; text-decoration-color: #0087ff\">Dense</span>)                │ (<span style=\"color: #00d7ff; text-decoration-color: #00d7ff\">None</span>, <span style=\"color: #00af00; text-decoration-color: #00af00\">7</span>)              │         <span style=\"color: #00af00; text-decoration-color: #00af00\">3,591</span> │\n",
       "└─────────────────────────────────┴────────────────────────┴───────────────┘\n",
       "</pre>\n"
      ],
      "text/plain": [
       "┏━━━━━━━━━━━━━━━━━━━━━━━━━━━━━━━━━┳━━━━━━━━━━━━━━━━━━━━━━━━┳━━━━━━━━━━━━━━━┓\n",
       "┃\u001b[1m \u001b[0m\u001b[1mLayer (type)                   \u001b[0m\u001b[1m \u001b[0m┃\u001b[1m \u001b[0m\u001b[1mOutput Shape          \u001b[0m\u001b[1m \u001b[0m┃\u001b[1m \u001b[0m\u001b[1m      Param #\u001b[0m\u001b[1m \u001b[0m┃\n",
       "┡━━━━━━━━━━━━━━━━━━━━━━━━━━━━━━━━━╇━━━━━━━━━━━━━━━━━━━━━━━━╇━━━━━━━━━━━━━━━┩\n",
       "│ conv2d_73 (\u001b[38;5;33mConv2D\u001b[0m)              │ (\u001b[38;5;45mNone\u001b[0m, \u001b[38;5;34m6\u001b[0m, \u001b[38;5;34m7\u001b[0m, \u001b[38;5;34m32\u001b[0m)       │           \u001b[38;5;34m608\u001b[0m │\n",
       "├─────────────────────────────────┼────────────────────────┼───────────────┤\n",
       "│ batch_normalization_48          │ (\u001b[38;5;45mNone\u001b[0m, \u001b[38;5;34m6\u001b[0m, \u001b[38;5;34m7\u001b[0m, \u001b[38;5;34m32\u001b[0m)       │           \u001b[38;5;34m128\u001b[0m │\n",
       "│ (\u001b[38;5;33mBatchNormalization\u001b[0m)            │                        │               │\n",
       "├─────────────────────────────────┼────────────────────────┼───────────────┤\n",
       "│ conv2d_74 (\u001b[38;5;33mConv2D\u001b[0m)              │ (\u001b[38;5;45mNone\u001b[0m, \u001b[38;5;34m6\u001b[0m, \u001b[38;5;34m7\u001b[0m, \u001b[38;5;34m64\u001b[0m)       │        \u001b[38;5;34m18,496\u001b[0m │\n",
       "├─────────────────────────────────┼────────────────────────┼───────────────┤\n",
       "│ batch_normalization_49          │ (\u001b[38;5;45mNone\u001b[0m, \u001b[38;5;34m6\u001b[0m, \u001b[38;5;34m7\u001b[0m, \u001b[38;5;34m64\u001b[0m)       │           \u001b[38;5;34m256\u001b[0m │\n",
       "│ (\u001b[38;5;33mBatchNormalization\u001b[0m)            │                        │               │\n",
       "├─────────────────────────────────┼────────────────────────┼───────────────┤\n",
       "│ conv2d_75 (\u001b[38;5;33mConv2D\u001b[0m)              │ (\u001b[38;5;45mNone\u001b[0m, \u001b[38;5;34m6\u001b[0m, \u001b[38;5;34m7\u001b[0m, \u001b[38;5;34m64\u001b[0m)       │        \u001b[38;5;34m36,928\u001b[0m │\n",
       "├─────────────────────────────────┼────────────────────────┼───────────────┤\n",
       "│ batch_normalization_50          │ (\u001b[38;5;45mNone\u001b[0m, \u001b[38;5;34m6\u001b[0m, \u001b[38;5;34m7\u001b[0m, \u001b[38;5;34m64\u001b[0m)       │           \u001b[38;5;34m256\u001b[0m │\n",
       "│ (\u001b[38;5;33mBatchNormalization\u001b[0m)            │                        │               │\n",
       "├─────────────────────────────────┼────────────────────────┼───────────────┤\n",
       "│ conv2d_76 (\u001b[38;5;33mConv2D\u001b[0m)              │ (\u001b[38;5;45mNone\u001b[0m, \u001b[38;5;34m6\u001b[0m, \u001b[38;5;34m7\u001b[0m, \u001b[38;5;34m64\u001b[0m)       │         \u001b[38;5;34m4,160\u001b[0m │\n",
       "├─────────────────────────────────┼────────────────────────┼───────────────┤\n",
       "│ batch_normalization_51          │ (\u001b[38;5;45mNone\u001b[0m, \u001b[38;5;34m6\u001b[0m, \u001b[38;5;34m7\u001b[0m, \u001b[38;5;34m64\u001b[0m)       │           \u001b[38;5;34m256\u001b[0m │\n",
       "│ (\u001b[38;5;33mBatchNormalization\u001b[0m)            │                        │               │\n",
       "├─────────────────────────────────┼────────────────────────┼───────────────┤\n",
       "│ max_pooling2d_16 (\u001b[38;5;33mMaxPooling2D\u001b[0m) │ (\u001b[38;5;45mNone\u001b[0m, \u001b[38;5;34m3\u001b[0m, \u001b[38;5;34m7\u001b[0m, \u001b[38;5;34m64\u001b[0m)       │             \u001b[38;5;34m0\u001b[0m │\n",
       "├─────────────────────────────────┼────────────────────────┼───────────────┤\n",
       "│ dropout_41 (\u001b[38;5;33mDropout\u001b[0m)            │ (\u001b[38;5;45mNone\u001b[0m, \u001b[38;5;34m3\u001b[0m, \u001b[38;5;34m7\u001b[0m, \u001b[38;5;34m64\u001b[0m)       │             \u001b[38;5;34m0\u001b[0m │\n",
       "├─────────────────────────────────┼────────────────────────┼───────────────┤\n",
       "│ conv2d_77 (\u001b[38;5;33mConv2D\u001b[0m)              │ (\u001b[38;5;45mNone\u001b[0m, \u001b[38;5;34m3\u001b[0m, \u001b[38;5;34m7\u001b[0m, \u001b[38;5;34m128\u001b[0m)      │        \u001b[38;5;34m73,856\u001b[0m │\n",
       "├─────────────────────────────────┼────────────────────────┼───────────────┤\n",
       "│ batch_normalization_52          │ (\u001b[38;5;45mNone\u001b[0m, \u001b[38;5;34m3\u001b[0m, \u001b[38;5;34m7\u001b[0m, \u001b[38;5;34m128\u001b[0m)      │           \u001b[38;5;34m512\u001b[0m │\n",
       "│ (\u001b[38;5;33mBatchNormalization\u001b[0m)            │                        │               │\n",
       "├─────────────────────────────────┼────────────────────────┼───────────────┤\n",
       "│ conv2d_78 (\u001b[38;5;33mConv2D\u001b[0m)              │ (\u001b[38;5;45mNone\u001b[0m, \u001b[38;5;34m3\u001b[0m, \u001b[38;5;34m7\u001b[0m, \u001b[38;5;34m128\u001b[0m)      │       \u001b[38;5;34m147,584\u001b[0m │\n",
       "├─────────────────────────────────┼────────────────────────┼───────────────┤\n",
       "│ batch_normalization_53          │ (\u001b[38;5;45mNone\u001b[0m, \u001b[38;5;34m3\u001b[0m, \u001b[38;5;34m7\u001b[0m, \u001b[38;5;34m128\u001b[0m)      │           \u001b[38;5;34m512\u001b[0m │\n",
       "│ (\u001b[38;5;33mBatchNormalization\u001b[0m)            │                        │               │\n",
       "├─────────────────────────────────┼────────────────────────┼───────────────┤\n",
       "│ conv2d_79 (\u001b[38;5;33mConv2D\u001b[0m)              │ (\u001b[38;5;45mNone\u001b[0m, \u001b[38;5;34m3\u001b[0m, \u001b[38;5;34m7\u001b[0m, \u001b[38;5;34m128\u001b[0m)      │        \u001b[38;5;34m16,512\u001b[0m │\n",
       "├─────────────────────────────────┼────────────────────────┼───────────────┤\n",
       "│ batch_normalization_54          │ (\u001b[38;5;45mNone\u001b[0m, \u001b[38;5;34m3\u001b[0m, \u001b[38;5;34m7\u001b[0m, \u001b[38;5;34m128\u001b[0m)      │           \u001b[38;5;34m512\u001b[0m │\n",
       "│ (\u001b[38;5;33mBatchNormalization\u001b[0m)            │                        │               │\n",
       "├─────────────────────────────────┼────────────────────────┼───────────────┤\n",
       "│ conv2d_80 (\u001b[38;5;33mConv2D\u001b[0m)              │ (\u001b[38;5;45mNone\u001b[0m, \u001b[38;5;34m2\u001b[0m, \u001b[38;5;34m4\u001b[0m, \u001b[38;5;34m128\u001b[0m)      │       \u001b[38;5;34m147,584\u001b[0m │\n",
       "├─────────────────────────────────┼────────────────────────┼───────────────┤\n",
       "│ dropout_42 (\u001b[38;5;33mDropout\u001b[0m)            │ (\u001b[38;5;45mNone\u001b[0m, \u001b[38;5;34m2\u001b[0m, \u001b[38;5;34m4\u001b[0m, \u001b[38;5;34m128\u001b[0m)      │             \u001b[38;5;34m0\u001b[0m │\n",
       "├─────────────────────────────────┼────────────────────────┼───────────────┤\n",
       "│ conv2d_81 (\u001b[38;5;33mConv2D\u001b[0m)              │ (\u001b[38;5;45mNone\u001b[0m, \u001b[38;5;34m2\u001b[0m, \u001b[38;5;34m4\u001b[0m, \u001b[38;5;34m256\u001b[0m)      │       \u001b[38;5;34m295,168\u001b[0m │\n",
       "├─────────────────────────────────┼────────────────────────┼───────────────┤\n",
       "│ batch_normalization_55          │ (\u001b[38;5;45mNone\u001b[0m, \u001b[38;5;34m2\u001b[0m, \u001b[38;5;34m4\u001b[0m, \u001b[38;5;34m256\u001b[0m)      │         \u001b[38;5;34m1,024\u001b[0m │\n",
       "│ (\u001b[38;5;33mBatchNormalization\u001b[0m)            │                        │               │\n",
       "├─────────────────────────────────┼────────────────────────┼───────────────┤\n",
       "│ conv2d_82 (\u001b[38;5;33mConv2D\u001b[0m)              │ (\u001b[38;5;45mNone\u001b[0m, \u001b[38;5;34m2\u001b[0m, \u001b[38;5;34m4\u001b[0m, \u001b[38;5;34m256\u001b[0m)      │       \u001b[38;5;34m590,080\u001b[0m │\n",
       "├─────────────────────────────────┼────────────────────────┼───────────────┤\n",
       "│ batch_normalization_56          │ (\u001b[38;5;45mNone\u001b[0m, \u001b[38;5;34m2\u001b[0m, \u001b[38;5;34m4\u001b[0m, \u001b[38;5;34m256\u001b[0m)      │         \u001b[38;5;34m1,024\u001b[0m │\n",
       "│ (\u001b[38;5;33mBatchNormalization\u001b[0m)            │                        │               │\n",
       "├─────────────────────────────────┼────────────────────────┼───────────────┤\n",
       "│ conv2d_83 (\u001b[38;5;33mConv2D\u001b[0m)              │ (\u001b[38;5;45mNone\u001b[0m, \u001b[38;5;34m2\u001b[0m, \u001b[38;5;34m4\u001b[0m, \u001b[38;5;34m256\u001b[0m)      │        \u001b[38;5;34m65,792\u001b[0m │\n",
       "├─────────────────────────────────┼────────────────────────┼───────────────┤\n",
       "│ batch_normalization_57          │ (\u001b[38;5;45mNone\u001b[0m, \u001b[38;5;34m2\u001b[0m, \u001b[38;5;34m4\u001b[0m, \u001b[38;5;34m256\u001b[0m)      │         \u001b[38;5;34m1,024\u001b[0m │\n",
       "│ (\u001b[38;5;33mBatchNormalization\u001b[0m)            │                        │               │\n",
       "├─────────────────────────────────┼────────────────────────┼───────────────┤\n",
       "│ max_pooling2d_17 (\u001b[38;5;33mMaxPooling2D\u001b[0m) │ (\u001b[38;5;45mNone\u001b[0m, \u001b[38;5;34m1\u001b[0m, \u001b[38;5;34m4\u001b[0m, \u001b[38;5;34m256\u001b[0m)      │             \u001b[38;5;34m0\u001b[0m │\n",
       "├─────────────────────────────────┼────────────────────────┼───────────────┤\n",
       "│ dropout_43 (\u001b[38;5;33mDropout\u001b[0m)            │ (\u001b[38;5;45mNone\u001b[0m, \u001b[38;5;34m1\u001b[0m, \u001b[38;5;34m4\u001b[0m, \u001b[38;5;34m256\u001b[0m)      │             \u001b[38;5;34m0\u001b[0m │\n",
       "├─────────────────────────────────┼────────────────────────┼───────────────┤\n",
       "│ global_average_pooling2d_3      │ (\u001b[38;5;45mNone\u001b[0m, \u001b[38;5;34m256\u001b[0m)            │             \u001b[38;5;34m0\u001b[0m │\n",
       "│ (\u001b[38;5;33mGlobalAveragePooling2D\u001b[0m)        │                        │               │\n",
       "├─────────────────────────────────┼────────────────────────┼───────────────┤\n",
       "│ dense_24 (\u001b[38;5;33mDense\u001b[0m)                │ (\u001b[38;5;45mNone\u001b[0m, \u001b[38;5;34m1024\u001b[0m)           │       \u001b[38;5;34m263,168\u001b[0m │\n",
       "├─────────────────────────────────┼────────────────────────┼───────────────┤\n",
       "│ dropout_44 (\u001b[38;5;33mDropout\u001b[0m)            │ (\u001b[38;5;45mNone\u001b[0m, \u001b[38;5;34m1024\u001b[0m)           │             \u001b[38;5;34m0\u001b[0m │\n",
       "├─────────────────────────────────┼────────────────────────┼───────────────┤\n",
       "│ dense_25 (\u001b[38;5;33mDense\u001b[0m)                │ (\u001b[38;5;45mNone\u001b[0m, \u001b[38;5;34m512\u001b[0m)            │       \u001b[38;5;34m524,800\u001b[0m │\n",
       "├─────────────────────────────────┼────────────────────────┼───────────────┤\n",
       "│ dropout_45 (\u001b[38;5;33mDropout\u001b[0m)            │ (\u001b[38;5;45mNone\u001b[0m, \u001b[38;5;34m512\u001b[0m)            │             \u001b[38;5;34m0\u001b[0m │\n",
       "├─────────────────────────────────┼────────────────────────┼───────────────┤\n",
       "│ dense_26 (\u001b[38;5;33mDense\u001b[0m)                │ (\u001b[38;5;45mNone\u001b[0m, \u001b[38;5;34m7\u001b[0m)              │         \u001b[38;5;34m3,591\u001b[0m │\n",
       "└─────────────────────────────────┴────────────────────────┴───────────────┘\n"
      ]
     },
     "metadata": {},
     "output_type": "display_data"
    },
    {
     "data": {
      "text/html": [
       "<pre style=\"white-space:pre;overflow-x:auto;line-height:normal;font-family:Menlo,'DejaVu Sans Mono',consolas,'Courier New',monospace\"><span style=\"font-weight: bold\"> Total params: </span><span style=\"color: #00af00; text-decoration-color: #00af00\">2,193,831</span> (8.37 MB)\n",
       "</pre>\n"
      ],
      "text/plain": [
       "\u001b[1m Total params: \u001b[0m\u001b[38;5;34m2,193,831\u001b[0m (8.37 MB)\n"
      ]
     },
     "metadata": {},
     "output_type": "display_data"
    },
    {
     "data": {
      "text/html": [
       "<pre style=\"white-space:pre;overflow-x:auto;line-height:normal;font-family:Menlo,'DejaVu Sans Mono',consolas,'Courier New',monospace\"><span style=\"font-weight: bold\"> Trainable params: </span><span style=\"color: #00af00; text-decoration-color: #00af00\">2,191,079</span> (8.36 MB)\n",
       "</pre>\n"
      ],
      "text/plain": [
       "\u001b[1m Trainable params: \u001b[0m\u001b[38;5;34m2,191,079\u001b[0m (8.36 MB)\n"
      ]
     },
     "metadata": {},
     "output_type": "display_data"
    },
    {
     "data": {
      "text/html": [
       "<pre style=\"white-space:pre;overflow-x:auto;line-height:normal;font-family:Menlo,'DejaVu Sans Mono',consolas,'Courier New',monospace\"><span style=\"font-weight: bold\"> Non-trainable params: </span><span style=\"color: #00af00; text-decoration-color: #00af00\">2,752</span> (10.75 KB)\n",
       "</pre>\n"
      ],
      "text/plain": [
       "\u001b[1m Non-trainable params: \u001b[0m\u001b[38;5;34m2,752\u001b[0m (10.75 KB)\n"
      ]
     },
     "metadata": {},
     "output_type": "display_data"
    }
   ],
   "source": [
    "# num_classes = 7  # 7 output classes (which column to drop in)\n",
    "\n",
    "# # Define Improved CNN (~4.5M parameters)\n",
    "# model = Sequential(\n",
    "#     [\n",
    "#         # **Initial Convolutional Block**\n",
    "#         Conv2D(32, (3, 3), activation=\"relu\", input_shape=(6, 7, 2), padding=\"same\"),\n",
    "#         BatchNormalization(),\n",
    "#         SpatialDropout2D(0.2),\n",
    "#         # **Convolutional Block 1**\n",
    "#         Conv2D(64, (3, 3), activation=\"relu\", padding=\"same\"),\n",
    "#         BatchNormalization(),\n",
    "#         Conv2D(64, (3, 3), activation=\"relu\", padding=\"same\"),\n",
    "#         MaxPooling2D(pool_size=(2, 1)),  # Reduce height, keep full width\n",
    "#         Dropout(0.3),\n",
    "#         # **Convolutional Block 2**\n",
    "#         Conv2D(128, (3, 3), activation=\"relu\", padding=\"same\"),\n",
    "#         BatchNormalization(),\n",
    "#         Conv2D(128, (3, 3), activation=\"relu\", padding=\"same\"),\n",
    "#         Conv2D(\n",
    "#             128, (3, 3), activation=\"relu\", strides=(2, 2), padding=\"same\"\n",
    "#         ),  # Strided conv instead of pooling\n",
    "#         Dropout(0.3),\n",
    "#         # **Convolutional Block 3**\n",
    "#         Conv2D(256, (3, 3), activation=\"relu\", padding=\"same\"),\n",
    "#         BatchNormalization(),\n",
    "#         Conv2D(256, (3, 3), activation=\"relu\", padding=\"same\"),\n",
    "#         MaxPooling2D(pool_size=(2, 1)),  # Reduce height, keep width\n",
    "#         Dropout(0.4),\n",
    "#         # **Convolutional Block 4**\n",
    "#         # Conv2D(512, (3, 3), activation=\"relu\", padding=\"same\"),\n",
    "#         # BatchNormalization(),\n",
    "#         # Conv2D(512, (3, 3), activation=\"relu\", padding=\"same\"),\n",
    "#         # Conv2D(\n",
    "#         #     512, (3, 3), activation=\"relu\", strides=(1, 2), padding=\"same\"\n",
    "#         # ),  # Reduce width slightly\n",
    "#         # Dropout(0.4),\n",
    "#         # **Fully Connected Layers**\n",
    "#         Flatten(),\n",
    "#         Dense(512, activation=\"relu\", kernel_regularizer=l2(0.001)),\n",
    "#         Dropout(0.5),\n",
    "#         Dense(256, activation=\"relu\", kernel_regularizer=l2(0.001)),\n",
    "#         Dropout(0.5),\n",
    "#         # **Output Layer**\n",
    "#         Dense(num_classes, activation=\"softmax\"),\n",
    "#     ]\n",
    "# )\n",
    "\n",
    "\n",
    "# # Compile Model\n",
    "# model.compile(\n",
    "#     optimizer=Adam(learning_rate=0.001),\n",
    "#     loss=\"categorical_crossentropy\",\n",
    "#     metrics=[\"accuracy\"],\n",
    "# )\n",
    "\n",
    "# # Print Model Summary\n",
    "# model.summary()\n",
    "\n",
    "\n",
    "num_classes = 7  # 7 output classes\n",
    "\n",
    "model = Sequential(\n",
    "    [\n",
    "        # **Initial Convolutional Layer**\n",
    "        Conv2D(32, (3, 3), activation=\"relu\", input_shape=(6, 7, 2), padding=\"same\"),\n",
    "        BatchNormalization(),\n",
    "        # **ResNet-like Block 1**\n",
    "        Conv2D(64, (3, 3), padding=\"same\", activation=\"relu\"),\n",
    "        BatchNormalization(),\n",
    "        Conv2D(64, (3, 3), padding=\"same\", activation=\"relu\"),\n",
    "        BatchNormalization(),\n",
    "        Conv2D(\n",
    "            64, (1, 1), padding=\"same\", activation=\"relu\"\n",
    "        ),  # Simulating residual connection\n",
    "        BatchNormalization(),\n",
    "        MaxPooling2D(pool_size=(2, 1)),  # Reduce height, keep width\n",
    "        Dropout(0.3),\n",
    "        # **ResNet-like Block 2**\n",
    "        Conv2D(128, (3, 3), padding=\"same\", activation=\"relu\"),\n",
    "        BatchNormalization(),\n",
    "        Conv2D(128, (3, 3), padding=\"same\", activation=\"relu\"),\n",
    "        BatchNormalization(),\n",
    "        Conv2D(\n",
    "            128, (1, 1), padding=\"same\", activation=\"relu\"\n",
    "        ),  # Mimicking skip connection\n",
    "        BatchNormalization(),\n",
    "        Conv2D(\n",
    "            128, (3, 3), padding=\"same\", activation=\"relu\", strides=(2, 2)\n",
    "        ),  # Strided conv for downsampling\n",
    "        Dropout(0.3),\n",
    "        # **ResNet-like Block 3**\n",
    "        Conv2D(256, (3, 3), padding=\"same\", activation=\"relu\"),\n",
    "        BatchNormalization(),\n",
    "        Conv2D(256, (3, 3), padding=\"same\", activation=\"relu\"),\n",
    "        BatchNormalization(),\n",
    "        Conv2D(\n",
    "            256, (1, 1), padding=\"same\", activation=\"relu\"\n",
    "        ),  # Mimicking skip connection\n",
    "        BatchNormalization(),\n",
    "        MaxPooling2D(pool_size=(2, 1)),  # Reduce height, keep width\n",
    "        Dropout(0.4),\n",
    "        # **Global Average Pooling (Instead of Flatten)**\n",
    "        GlobalAveragePooling2D(),\n",
    "        # **Fully Connected Layers (More Trainable Parameters)**\n",
    "        Dense(\n",
    "            1024, activation=\"relu\", kernel_regularizer=l2(0.001)\n",
    "        ),  # Increased from 512 to 1024\n",
    "        Dropout(0.5),\n",
    "        Dense(\n",
    "            512, activation=\"relu\", kernel_regularizer=l2(0.001)\n",
    "        ),  # Increased from 256 to 512\n",
    "        Dropout(0.5),\n",
    "        # **Output Layer**\n",
    "        Dense(num_classes, activation=\"softmax\"),\n",
    "    ]\n",
    ")\n",
    "\n",
    "# Compile Model\n",
    "model.compile(\n",
    "    optimizer=tf.keras.optimizers.Adam(learning_rate=0.001),\n",
    "    loss=\"categorical_crossentropy\",\n",
    "    metrics=[\"accuracy\"],\n",
    ")\n",
    "\n",
    "# Print Model Summary\n",
    "model.summary()"
   ]
  },
  {
   "cell_type": "markdown",
   "metadata": {},
   "source": [
    "### Train"
   ]
  },
  {
   "cell_type": "code",
   "execution_count": 122,
   "metadata": {},
   "outputs": [
    {
     "name": "stdout",
     "output_type": "stream",
     "text": [
      "Epoch 1/100\n",
      "\u001b[1m5745/5745\u001b[0m \u001b[32m━━━━━━━━━━━━━━━━━━━━\u001b[0m\u001b[37m\u001b[0m \u001b[1m186s\u001b[0m 32ms/step - accuracy: 0.4287 - loss: 1.8062 - val_accuracy: 0.5865 - val_loss: 1.1506 - learning_rate: 0.0010\n",
      "Epoch 2/100\n",
      "\u001b[1m5745/5745\u001b[0m \u001b[32m━━━━━━━━━━━━━━━━━━━━\u001b[0m\u001b[37m\u001b[0m \u001b[1m185s\u001b[0m 32ms/step - accuracy: 0.5789 - loss: 1.2005 - val_accuracy: 0.6225 - val_loss: 1.0484 - learning_rate: 0.0010\n",
      "Epoch 3/100\n",
      "\u001b[1m5745/5745\u001b[0m \u001b[32m━━━━━━━━━━━━━━━━━━━━\u001b[0m\u001b[37m\u001b[0m \u001b[1m186s\u001b[0m 32ms/step - accuracy: 0.6104 - loss: 1.1059 - val_accuracy: 0.6388 - val_loss: 1.0030 - learning_rate: 0.0010\n",
      "Epoch 4/100\n",
      "\u001b[1m5745/5745\u001b[0m \u001b[32m━━━━━━━━━━━━━━━━━━━━\u001b[0m\u001b[37m\u001b[0m \u001b[1m185s\u001b[0m 32ms/step - accuracy: 0.6298 - loss: 1.0525 - val_accuracy: 0.6467 - val_loss: 0.9670 - learning_rate: 0.0010\n",
      "Epoch 5/100\n",
      "\u001b[1m5745/5745\u001b[0m \u001b[32m━━━━━━━━━━━━━━━━━━━━\u001b[0m\u001b[37m\u001b[0m \u001b[1m199s\u001b[0m 35ms/step - accuracy: 0.6408 - loss: 1.0125 - val_accuracy: 0.6537 - val_loss: 0.9477 - learning_rate: 0.0010\n",
      "Epoch 6/100\n",
      "\u001b[1m5745/5745\u001b[0m \u001b[32m━━━━━━━━━━━━━━━━━━━━\u001b[0m\u001b[37m\u001b[0m \u001b[1m188s\u001b[0m 33ms/step - accuracy: 0.6451 - loss: 0.9896 - val_accuracy: 0.6600 - val_loss: 0.9223 - learning_rate: 0.0010\n",
      "Epoch 7/100\n",
      "\u001b[1m5745/5745\u001b[0m \u001b[32m━━━━━━━━━━━━━━━━━━━━\u001b[0m\u001b[37m\u001b[0m \u001b[1m196s\u001b[0m 34ms/step - accuracy: 0.6539 - loss: 0.9670 - val_accuracy: 0.6669 - val_loss: 0.9132 - learning_rate: 0.0010\n",
      "Epoch 8/100\n",
      "\u001b[1m5745/5745\u001b[0m \u001b[32m━━━━━━━━━━━━━━━━━━━━\u001b[0m\u001b[37m\u001b[0m \u001b[1m185s\u001b[0m 32ms/step - accuracy: 0.6607 - loss: 0.9484 - val_accuracy: 0.6715 - val_loss: 0.8985 - learning_rate: 0.0010\n",
      "Epoch 9/100\n",
      "\u001b[1m5745/5745\u001b[0m \u001b[32m━━━━━━━━━━━━━━━━━━━━\u001b[0m\u001b[37m\u001b[0m \u001b[1m185s\u001b[0m 32ms/step - accuracy: 0.6629 - loss: 0.9383 - val_accuracy: 0.6695 - val_loss: 0.8953 - learning_rate: 0.0010\n",
      "Epoch 10/100\n",
      "\u001b[1m5745/5745\u001b[0m \u001b[32m━━━━━━━━━━━━━━━━━━━━\u001b[0m\u001b[37m\u001b[0m \u001b[1m188s\u001b[0m 33ms/step - accuracy: 0.6693 - loss: 0.9203 - val_accuracy: 0.6730 - val_loss: 0.8883 - learning_rate: 0.0010\n",
      "Epoch 11/100\n",
      "\u001b[1m5745/5745\u001b[0m \u001b[32m━━━━━━━━━━━━━━━━━━━━\u001b[0m\u001b[37m\u001b[0m \u001b[1m193s\u001b[0m 34ms/step - accuracy: 0.6719 - loss: 0.9134 - val_accuracy: 0.6736 - val_loss: 0.8849 - learning_rate: 0.0010\n",
      "Epoch 12/100\n",
      "\u001b[1m5745/5745\u001b[0m \u001b[32m━━━━━━━━━━━━━━━━━━━━\u001b[0m\u001b[37m\u001b[0m \u001b[1m192s\u001b[0m 33ms/step - accuracy: 0.6749 - loss: 0.9023 - val_accuracy: 0.6738 - val_loss: 0.8860 - learning_rate: 0.0010\n",
      "Epoch 13/100\n",
      "\u001b[1m5745/5745\u001b[0m \u001b[32m━━━━━━━━━━━━━━━━━━━━\u001b[0m\u001b[37m\u001b[0m \u001b[1m184s\u001b[0m 32ms/step - accuracy: 0.6773 - loss: 0.8945 - val_accuracy: 0.6793 - val_loss: 0.8756 - learning_rate: 0.0010\n",
      "Epoch 14/100\n",
      "\u001b[1m5745/5745\u001b[0m \u001b[32m━━━━━━━━━━━━━━━━━━━━\u001b[0m\u001b[37m\u001b[0m \u001b[1m197s\u001b[0m 34ms/step - accuracy: 0.6828 - loss: 0.8857 - val_accuracy: 0.6787 - val_loss: 0.8756 - learning_rate: 0.0010\n",
      "Epoch 15/100\n",
      "\u001b[1m5745/5745\u001b[0m \u001b[32m━━━━━━━━━━━━━━━━━━━━\u001b[0m\u001b[37m\u001b[0m \u001b[1m194s\u001b[0m 34ms/step - accuracy: 0.6845 - loss: 0.8769 - val_accuracy: 0.6830 - val_loss: 0.8642 - learning_rate: 0.0010\n",
      "Epoch 16/100\n",
      "\u001b[1m5745/5745\u001b[0m \u001b[32m━━━━━━━━━━━━━━━━━━━━\u001b[0m\u001b[37m\u001b[0m \u001b[1m197s\u001b[0m 34ms/step - accuracy: 0.6859 - loss: 0.8743 - val_accuracy: 0.6791 - val_loss: 0.8697 - learning_rate: 0.0010\n",
      "Epoch 17/100\n",
      "\u001b[1m5745/5745\u001b[0m \u001b[32m━━━━━━━━━━━━━━━━━━━━\u001b[0m\u001b[37m\u001b[0m \u001b[1m196s\u001b[0m 34ms/step - accuracy: 0.6887 - loss: 0.8671 - val_accuracy: 0.6823 - val_loss: 0.8696 - learning_rate: 0.0010\n",
      "Epoch 18/100\n",
      "\u001b[1m5745/5745\u001b[0m \u001b[32m━━━━━━━━━━━━━━━━━━━━\u001b[0m\u001b[37m\u001b[0m \u001b[1m191s\u001b[0m 33ms/step - accuracy: 0.6904 - loss: 0.8613 - val_accuracy: 0.6810 - val_loss: 0.8659 - learning_rate: 0.0010\n",
      "Epoch 19/100\n",
      "\u001b[1m5745/5745\u001b[0m \u001b[32m━━━━━━━━━━━━━━━━━━━━\u001b[0m\u001b[37m\u001b[0m \u001b[1m195s\u001b[0m 34ms/step - accuracy: 0.7035 - loss: 0.8103 - val_accuracy: 0.6869 - val_loss: 0.8286 - learning_rate: 5.0000e-04\n",
      "Epoch 20/100\n",
      "\u001b[1m5745/5745\u001b[0m \u001b[32m━━━━━━━━━━━━━━━━━━━━\u001b[0m\u001b[37m\u001b[0m \u001b[1m192s\u001b[0m 33ms/step - accuracy: 0.7090 - loss: 0.7875 - val_accuracy: 0.6883 - val_loss: 0.8318 - learning_rate: 5.0000e-04\n",
      "Epoch 21/100\n",
      "\u001b[1m5745/5745\u001b[0m \u001b[32m━━━━━━━━━━━━━━━━━━━━\u001b[0m\u001b[37m\u001b[0m \u001b[1m193s\u001b[0m 34ms/step - accuracy: 0.7105 - loss: 0.7814 - val_accuracy: 0.6909 - val_loss: 0.8267 - learning_rate: 5.0000e-04\n",
      "Epoch 22/100\n",
      "\u001b[1m5745/5745\u001b[0m \u001b[32m━━━━━━━━━━━━━━━━━━━━\u001b[0m\u001b[37m\u001b[0m \u001b[1m191s\u001b[0m 33ms/step - accuracy: 0.7139 - loss: 0.7740 - val_accuracy: 0.6897 - val_loss: 0.8312 - learning_rate: 5.0000e-04\n",
      "Epoch 23/100\n",
      "\u001b[1m5745/5745\u001b[0m \u001b[32m━━━━━━━━━━━━━━━━━━━━\u001b[0m\u001b[37m\u001b[0m \u001b[1m187s\u001b[0m 33ms/step - accuracy: 0.7133 - loss: 0.7732 - val_accuracy: 0.6867 - val_loss: 0.8371 - learning_rate: 5.0000e-04\n",
      "Epoch 24/100\n",
      "\u001b[1m5745/5745\u001b[0m \u001b[32m━━━━━━━━━━━━━━━━━━━━\u001b[0m\u001b[37m\u001b[0m \u001b[1m221s\u001b[0m 39ms/step - accuracy: 0.7159 - loss: 0.7644 - val_accuracy: 0.6865 - val_loss: 0.8372 - learning_rate: 5.0000e-04\n",
      "Epoch 25/100\n",
      "\u001b[1m5745/5745\u001b[0m \u001b[32m━━━━━━━━━━━━━━━━━━━━\u001b[0m\u001b[37m\u001b[0m \u001b[1m6833s\u001b[0m 1s/step - accuracy: 0.7235 - loss: 0.7419 - val_accuracy: 0.6926 - val_loss: 0.8169 - learning_rate: 2.5000e-04\n",
      "Epoch 26/100\n",
      "\u001b[1m5745/5745\u001b[0m \u001b[32m━━━━━━━━━━━━━━━━━━━━\u001b[0m\u001b[37m\u001b[0m \u001b[1m707s\u001b[0m 123ms/step - accuracy: 0.7275 - loss: 0.7231 - val_accuracy: 0.6915 - val_loss: 0.8226 - learning_rate: 2.5000e-04\n",
      "Epoch 27/100\n",
      "\u001b[1m5745/5745\u001b[0m \u001b[32m━━━━━━━━━━━━━━━━━━━━\u001b[0m\u001b[37m\u001b[0m \u001b[1m743s\u001b[0m 129ms/step - accuracy: 0.7277 - loss: 0.7196 - val_accuracy: 0.6922 - val_loss: 0.8237 - learning_rate: 2.5000e-04\n",
      "Epoch 28/100\n",
      "\u001b[1m5745/5745\u001b[0m \u001b[32m━━━━━━━━━━━━━━━━━━━━\u001b[0m\u001b[37m\u001b[0m \u001b[1m181s\u001b[0m 32ms/step - accuracy: 0.7298 - loss: 0.7155 - val_accuracy: 0.6917 - val_loss: 0.8313 - learning_rate: 2.5000e-04\n",
      "Epoch 29/100\n",
      "\u001b[1m5745/5745\u001b[0m \u001b[32m━━━━━━━━━━━━━━━━━━━━\u001b[0m\u001b[37m\u001b[0m \u001b[1m181s\u001b[0m 31ms/step - accuracy: 0.7327 - loss: 0.7049 - val_accuracy: 0.6916 - val_loss: 0.8268 - learning_rate: 1.2500e-04\n",
      "Epoch 30/100\n",
      "\u001b[1m5745/5745\u001b[0m \u001b[32m━━━━━━━━━━━━━━━━━━━━\u001b[0m\u001b[37m\u001b[0m \u001b[1m183s\u001b[0m 32ms/step - accuracy: 0.7343 - loss: 0.6946 - val_accuracy: 0.6913 - val_loss: 0.8209 - learning_rate: 1.2500e-04\n",
      "Epoch 30: early stopping\n",
      "Restoring model weights from the end of the best epoch: 25.\n"
     ]
    }
   ],
   "source": [
    "# Define Early Stopping\n",
    "early_stopping = EarlyStopping(\n",
    "    monitor=\"val_loss\",  # Monitor validation loss\n",
    "    patience=5,  # Number of epochs with no improvement before stopping\n",
    "    restore_best_weights=True,  # Restore model weights from the best epoch\n",
    "    verbose=1,\n",
    ")\n",
    "\n",
    "# Learning Rate Scheduler\n",
    "reduce_lr = ReduceLROnPlateau(monitor=\"val_loss\", factor=0.5, patience=3, min_lr=1e-6)\n",
    "\n",
    "# Train the model\n",
    "history = model.fit(\n",
    "    X_train,\n",
    "    y_train,\n",
    "    validation_data=(X_val, y_val),\n",
    "    epochs=100,\n",
    "    batch_size=64,\n",
    "    callbacks=[reduce_lr, early_stopping],  # Add early stopping to callbacks\n",
    "    verbose=1,\n",
    ")"
   ]
  },
  {
   "cell_type": "code",
   "execution_count": 123,
   "metadata": {},
   "outputs": [
    {
     "name": "stdout",
     "output_type": "stream",
     "text": [
      "\u001b[1m2462/2462\u001b[0m \u001b[32m━━━━━━━━━━━━━━━━━━━━\u001b[0m\u001b[37m\u001b[0m \u001b[1m13s\u001b[0m 5ms/step - accuracy: 0.6934 - loss: 0.8101\n",
      "Test Loss: 0.8125, Test Accuracy: 0.6926\n"
     ]
    }
   ],
   "source": [
    "# Evaluate on the test set\n",
    "test_loss, test_accuracy = model.evaluate(X_test, y_test, verbose=1)\n",
    "print(f\"Test Loss: {test_loss:.4f}, Test Accuracy: {test_accuracy:.4f}\")"
   ]
  },
  {
   "cell_type": "code",
   "execution_count": 124,
   "metadata": {},
   "outputs": [
    {
     "name": "stderr",
     "output_type": "stream",
     "text": [
      "WARNING:absl:You are saving your model as an HDF5 file via `model.save()` or `keras.saving.save_model(model)`. This file format is considered legacy. We recommend using instead the native Keras format, e.g. `model.save('my_model.keras')` or `keras.saving.save_model(model, 'my_model.keras')`. \n"
     ]
    }
   ],
   "source": [
    "# Path for model\n",
    "new_path = \"best_model_combined_PlusOnly.h5\"\n",
    "\n",
    "model.save(new_path)"
   ]
  },
  {
   "cell_type": "code",
   "execution_count": null,
   "metadata": {},
   "outputs": [],
   "source": [
    "# Try Resnet code. Skip connections, normalization, relu before the normalization"
   ]
  },
  {
   "cell_type": "markdown",
   "metadata": {},
   "source": [
    "### Post train analysis "
   ]
  },
  {
   "cell_type": "code",
   "execution_count": 125,
   "metadata": {},
   "outputs": [
    {
     "data": {
      "image/png": "[encoded data removed]",
      "text/plain": [
       "<Figure size 640x480 with 1 Axes>"
      ]
     },
     "metadata": {},
     "output_type": "display_data"
    },
    {
     "data": {
      "image/png": "[encoded data removed]",
      "text/plain": [
       "<Figure size 640x480 with 1 Axes>"
      ]
     },
     "metadata": {},
     "output_type": "display_data"
    }
   ],
   "source": [
    "# Visualize performance\n",
    "\n",
    "# Plot training and validation accuracy\n",
    "plt.plot(history.history[\"accuracy\"], label=\"Training Accuracy\")\n",
    "plt.plot(history.history[\"val_accuracy\"], label=\"Validation Accuracy\")\n",
    "plt.title(\"Model Accuracy\")\n",
    "plt.xlabel(\"Epochs\")\n",
    "plt.ylabel(\"Accuracy\")\n",
    "plt.legend()\n",
    "plt.show()\n",
    "\n",
    "# Plot training and validation loss\n",
    "plt.plot(history.history[\"loss\"], label=\"Training Loss\")\n",
    "plt.plot(history.history[\"val_loss\"], label=\"Validation Loss\")\n",
    "plt.title(\"Model Loss\")\n",
    "plt.xlabel(\"Epochs\")\n",
    "plt.ylabel(\"Loss\")\n",
    "plt.legend()\n",
    "plt.show()"
   ]
  },
  {
   "cell_type": "markdown",
   "metadata": {},
   "source": [
    "### Look at some predicitons"
   ]
  },
  {
   "cell_type": "code",
   "execution_count": 88,
   "metadata": {},
   "outputs": [
    {
     "name": "stdout",
     "output_type": "stream",
     "text": [
      "\u001b[1m1/1\u001b[0m \u001b[32m━━━━━━━━━━━━━━━━━━━━\u001b[0m\u001b[37m\u001b[0m \u001b[1m0s\u001b[0m 32ms/step\n",
      "Board State 1:\n",
      "Player 1 Layer:\n",
      "[[0. 0. 0. 0. 0. 0. 0.]\n",
      " [0. 0. 0. 0. 0. 0. 0.]\n",
      " [0. 0. 1. 1. 0. 0. 0.]\n",
      " [0. 0. 1. 0. 0. 1. 0.]\n",
      " [0. 0. 0. 1. 0. 0. 0.]\n",
      " [0. 0. 1. 0. 0. 0. 1.]]\n",
      "Player 2 Layer:\n",
      "[[0. 0. 0. 0. 0. 0. 0.]\n",
      " [0. 0. 1. 0. 0. 0. 0.]\n",
      " [0. 0. 0. 0. 0. 1. 0.]\n",
      " [0. 0. 0. 1. 0. 0. 0.]\n",
      " [0. 0. 1. 0. 0. 1. 0.]\n",
      " [0. 0. 0. 1. 0. 1. 0.]]\n",
      "True Move: 0, Predicted Move: 3\n",
      "--------------------------------------------------\n",
      "Board State 2:\n",
      "Player 1 Layer:\n",
      "[[1. 0. 1. 1. 0. 1. 1.]\n",
      " [1. 0. 1. 1. 0. 0. 0.]\n",
      " [0. 0. 0. 1. 0. 0. 0.]\n",
      " [1. 0. 0. 0. 1. 1. 1.]\n",
      " [0. 0. 1. 0. 0. 0. 1.]\n",
      " [0. 0. 0. 1. 1. 1. 0.]]\n",
      "Player 2 Layer:\n",
      "[[0. 0. 0. 0. 0. 0. 0.]\n",
      " [0. 0. 0. 0. 0. 1. 1.]\n",
      " [1. 0. 1. 0. 1. 1. 1.]\n",
      " [0. 0. 1. 1. 0. 0. 0.]\n",
      " [1. 1. 0. 1. 1. 1. 0.]\n",
      " [1. 1. 1. 0. 0. 0. 1.]]\n",
      "True Move: 4, Predicted Move: 4\n",
      "--------------------------------------------------\n",
      "Board State 3:\n",
      "Player 1 Layer:\n",
      "[[0. 0. 0. 0. 0. 0. 0.]\n",
      " [0. 0. 0. 0. 0. 0. 0.]\n",
      " [0. 0. 0. 0. 0. 0. 0.]\n",
      " [0. 0. 0. 0. 0. 0. 0.]\n",
      " [0. 0. 0. 0. 0. 0. 0.]\n",
      " [0. 1. 0. 1. 0. 0. 0.]]\n",
      "Player 2 Layer:\n",
      "[[0. 0. 0. 0. 0. 0. 0.]\n",
      " [0. 0. 0. 0. 0. 0. 0.]\n",
      " [0. 0. 0. 0. 0. 0. 0.]\n",
      " [0. 0. 0. 0. 0. 0. 0.]\n",
      " [0. 0. 0. 1. 0. 0. 0.]\n",
      " [0. 0. 1. 0. 0. 0. 0.]]\n",
      "True Move: 2, Predicted Move: 1\n",
      "--------------------------------------------------\n",
      "Board State 4:\n",
      "Player 1 Layer:\n",
      "[[0. 0. 0. 0. 0. 0. 0.]\n",
      " [0. 0. 0. 0. 0. 0. 0.]\n",
      " [0. 0. 0. 0. 0. 0. 0.]\n",
      " [0. 0. 0. 0. 1. 0. 0.]\n",
      " [0. 0. 1. 1. 0. 0. 0.]\n",
      " [0. 0. 0. 1. 1. 0. 0.]]\n",
      "Player 2 Layer:\n",
      "[[0. 0. 0. 0. 0. 0. 0.]\n",
      " [0. 0. 0. 0. 0. 0. 0.]\n",
      " [0. 0. 0. 1. 0. 0. 0.]\n",
      " [0. 0. 0. 1. 0. 0. 0.]\n",
      " [0. 0. 0. 0. 1. 0. 0.]\n",
      " [0. 0. 1. 0. 0. 0. 1.]]\n",
      "True Move: 3, Predicted Move: 3\n",
      "--------------------------------------------------\n",
      "Board State 5:\n",
      "Player 1 Layer:\n",
      "[[0. 0. 0. 0. 0. 0. 0.]\n",
      " [0. 0. 0. 0. 0. 0. 0.]\n",
      " [0. 0. 0. 0. 0. 0. 0.]\n",
      " [0. 0. 0. 0. 0. 0. 0.]\n",
      " [0. 0. 0. 0. 0. 0. 0.]\n",
      " [1. 0. 0. 0. 0. 0. 0.]]\n",
      "Player 2 Layer:\n",
      "[[0. 0. 0. 0. 0. 0. 0.]\n",
      " [0. 0. 0. 0. 0. 0. 0.]\n",
      " [0. 0. 0. 0. 0. 0. 0.]\n",
      " [0. 0. 0. 0. 0. 0. 0.]\n",
      " [0. 0. 0. 0. 0. 0. 0.]\n",
      " [0. 0. 0. 0. 0. 0. 0.]]\n",
      "True Move: 3, Predicted Move: 3\n",
      "--------------------------------------------------\n"
     ]
    }
   ],
   "source": [
    "# Predict on a few test samples\n",
    "predictions = model.predict(X_test[:5])\n",
    "predicted_moves = np.argmax(predictions, axis=1)\n",
    "true_moves = np.argmax(y_test[:5], axis=1)\n",
    "\n",
    "# Display predictions vs true labels\n",
    "for i in range(5):\n",
    "    print(f\"Board State {i+1}:\")\n",
    "    print(\"Player 1 Layer:\")\n",
    "    print(X_test[i][:, :, 0])  # Player 1's layer\n",
    "    print(\"Player 2 Layer:\")\n",
    "    print(X_test[i][:, :, 1])  # Player 2's layer\n",
    "    print(f\"True Move: {true_moves[i]}, Predicted Move: {predicted_moves[i]}\")\n",
    "    print(\"-\" * 50)"
   ]
  }
 ],
 "metadata": {
  "kernelspec": {
   "display_name": "Python 3",
   "language": "python",
   "name": "python3"
  },
  "language_info": {
   "codemirror_mode": {
    "name": "ipython",
    "version": 3
   },
   "file_extension": ".py",
   "mimetype": "text/x-python",
   "name": "python",
   "nbconvert_exporter": "python",
   "pygments_lexer": "ipython3",
   "version": "3.12.4"
  }
 },
 "nbformat": 4,
 "nbformat_minor": 2
}
